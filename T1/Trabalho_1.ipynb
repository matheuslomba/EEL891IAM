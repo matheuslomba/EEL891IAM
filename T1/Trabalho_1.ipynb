{
  "nbformat": 4,
  "nbformat_minor": 0,
  "metadata": {
    "colab": {
      "name": "Trabalho 1.ipynb",
      "provenance": [],
      "toc_visible": true
    },
    "kernelspec": {
      "name": "python3",
      "display_name": "Python 3"
    },
    "language_info": {
      "name": "python"
    }
  },
  "cells": [
    {
      "cell_type": "markdown",
      "source": [
        "#EEL891 - 2021.02 - Trabalho 1"
      ],
      "metadata": {
        "id": "BrujuCR5rRbM"
      }
    },
    {
      "cell_type": "markdown",
      "source": [
        "##Classificação: sistema de apoio à decisão p/ aprovação de crédito"
      ],
      "metadata": {
        "id": "1uq0qN7k36ip"
      }
    },
    {
      "cell_type": "markdown",
      "source": [
        "Matheus Lomba de Rezende Conde\n",
        "\n",
        "DRE: 117085216"
      ],
      "metadata": {
        "id": "JWAYY2Ar3tPR"
      }
    },
    {
      "cell_type": "markdown",
      "source": [
        "##Preparando o ambiente"
      ],
      "metadata": {
        "id": "-uY1YlRVrkbV"
      }
    },
    {
      "cell_type": "markdown",
      "source": [
        "###Importando as bibliotecas necessárias\n",
        "\n"
      ],
      "metadata": {
        "id": "s_YfQJSOnjsI"
      }
    },
    {
      "cell_type": "code",
      "execution_count": 31,
      "metadata": {
        "id": "rcFTcTY3eGGM"
      },
      "outputs": [],
      "source": [
        "#Bibliotecas de análise\n",
        "import pandas as pd\n",
        "import numpy as np\n",
        "import matplotlib.pyplot as plt\n",
        "import seaborn as sns\n",
        "\n",
        "from sklearn.preprocessing import LabelBinarizer, MinMaxScaler\n",
        "from sklearn.neighbors import KNeighborsClassifier\n",
        "from sklearn.model_selection import cross_val_score\n",
        "\n",
        "import io #Leitura do csv importado"
      ]
    },
    {
      "cell_type": "code",
      "source": [
        "#Biblioteca para importação das bases de dados\n",
        "from google.colab import files\n",
        "uploaded = files.upload()"
      ],
      "metadata": {
        "colab": {
          "resources": {
            "http://localhost:8080/nbextensions/google.colab/files.js": {
              "data": "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",
              "ok": true,
              "headers": [
                [
                  "content-type",
                  "application/javascript"
                ]
              ],
              "status": 200,
              "status_text": ""
            }
          },
          "base_uri": "https://localhost:8080/",
          "height": 107
        },
        "id": "SxQpegeEtkLS",
        "outputId": "f8eea45b-4f70-4281-99ae-8731a9c22929"
      },
      "execution_count": null,
      "outputs": [
        {
          "output_type": "display_data",
          "data": {
            "text/plain": [
              "<IPython.core.display.HTML object>"
            ],
            "text/html": [
              "\n",
              "     <input type=\"file\" id=\"files-a8f9fda9-5989-45ec-a8c3-edc88e9baacc\" name=\"files[]\" multiple disabled\n",
              "        style=\"border:none\" />\n",
              "     <output id=\"result-a8f9fda9-5989-45ec-a8c3-edc88e9baacc\">\n",
              "      Upload widget is only available when the cell has been executed in the\n",
              "      current browser session. Please rerun this cell to enable.\n",
              "      </output>\n",
              "      <script src=\"/nbextensions/google.colab/files.js\"></script> "
            ]
          },
          "metadata": {}
        },
        {
          "output_type": "stream",
          "name": "stdout",
          "text": [
            "Saving conjunto_de_teste.csv to conjunto_de_teste (1).csv\n",
            "Saving conjunto_de_treinamento.csv to conjunto_de_treinamento (1).csv\n"
          ]
        }
      ]
    },
    {
      "cell_type": "markdown",
      "source": [
        "###Carregando o dataset"
      ],
      "metadata": {
        "id": "ic2bt9d2neoN"
      }
    },
    {
      "cell_type": "code",
      "source": [
        "#Carga do dataset de treinamento\n",
        "df_treino = pd.read_csv(io.BytesIO(uploaded['conjunto_de_treinamento.csv']))\n",
        "\n",
        "#Carga do dataset de teste\n",
        "df_teste = pd.read_csv(io.BytesIO(uploaded['conjunto_de_teste.csv']))"
      ],
      "metadata": {
        "id": "Mye_5_9Fl0dE"
      },
      "execution_count": 32,
      "outputs": []
    },
    {
      "cell_type": "markdown",
      "source": [
        "##Analisando o Dataset"
      ],
      "metadata": {
        "id": "mMOM6WXIVyhM"
      }
    },
    {
      "cell_type": "markdown",
      "source": [
        "###Número de Registros e Atributos nos datasets"
      ],
      "metadata": {
        "id": "zcfdDgOTs2gw"
      }
    },
    {
      "cell_type": "code",
      "source": [
        "print(f'Shape treino: {df_treino.shape}')\n",
        "print(f'Shape teste: {df_teste.shape}')"
      ],
      "metadata": {
        "id": "CFzc95cqV5No"
      },
      "execution_count": null,
      "outputs": []
    },
    {
      "cell_type": "markdown",
      "source": [
        "###Amostra do Dataset"
      ],
      "metadata": {
        "id": "t4ff_sUZs3Rl"
      }
    },
    {
      "cell_type": "code",
      "source": [
        "df_treino.head().T"
      ],
      "metadata": {
        "id": "FipXMKvjs6xI",
        "colab": {
          "base_uri": "https://localhost:8080/",
          "height": 1000
        },
        "outputId": "f1defff9-a689-4875-9494-cd935964eb04"
      },
      "execution_count": 53,
      "outputs": [
        {
          "output_type": "execute_result",
          "data": {
            "text/plain": [
              "                                        0      1      2      3      4\n",
              "produto_solicitado                    1.0    1.0    1.0    1.0    7.0\n",
              "dia_vencimento                       10.0   25.0   20.0   20.0    1.0\n",
              "tipo_endereco                         1.0    1.0    1.0    1.0    1.0\n",
              "idade                                85.0   38.0   37.0   37.0   51.0\n",
              "estado_civil                          2.0    1.0    2.0    1.0    1.0\n",
              "qtde_dependentes                      0.0    0.0    0.0    1.0    3.0\n",
              "nacionalidade                         1.0    1.0    1.0    1.0    1.0\n",
              "possui_telefone_residencial           1.0    1.0    1.0    1.0    1.0\n",
              "tipo_residencia                       1.0    1.0    5.0    1.0    0.0\n",
              "meses_na_residencia                  12.0    5.0    1.0    1.0    1.0\n",
              "possui_email                          0.0    1.0    1.0    1.0    1.0\n",
              "renda_mensal_regular                480.0  380.0  600.0  460.0  687.0\n",
              "renda_extra                           0.0    0.0    0.0    0.0  600.0\n",
              "possui_cartao_visa                    0.0    0.0    0.0    0.0    0.0\n",
              "possui_cartao_mastercard              0.0    0.0    0.0    0.0    0.0\n",
              "possui_cartao_diners                  0.0    0.0    0.0    0.0    0.0\n",
              "possui_cartao_amex                    0.0    0.0    0.0    0.0    0.0\n",
              "possui_outros_cartoes                 0.0    0.0    0.0    0.0    0.0\n",
              "qtde_contas_bancarias                 1.0    0.0    0.0    0.0    0.0\n",
              "qtde_contas_bancarias_especiais       1.0    0.0    0.0    0.0    0.0\n",
              "valor_patrimonio_pessoal              0.0    0.0    0.0    0.0    0.0\n",
              "vinculo_formal_com_empresa            0.0    0.0    0.0    1.0    1.0\n",
              "possui_telefone_trabalho              0.0    0.0    0.0    1.0    0.0\n",
              "profissao                             9.0    2.0    8.0    9.0    9.0\n",
              "ocupacao                              1.0    5.0    3.0    2.0    5.0\n",
              "local_onde_reside                   600.0  492.0  450.0  932.0  440.0\n",
              "local_onde_trabalha                 600.0  492.0  450.0  932.0  440.0\n",
              "inadimplente                          0.0    0.0    1.0    1.0    1.0\n",
              "sexo_F                                0.0    1.0    1.0    0.0    1.0\n",
              "sexo_M                                1.0    0.0    0.0    1.0    0.0\n",
              "sexo_N                                0.0    0.0    0.0    0.0    0.0\n",
              "forma_envio_solicitacao_correio       0.0    0.0    0.0    0.0    0.0\n",
              "forma_envio_solicitacao_internet      0.0    1.0    1.0    1.0    1.0\n",
              "forma_envio_solicitacao_presencial    1.0    0.0    0.0    0.0    0.0"
            ],
            "text/html": [
              "\n",
              "  <div id=\"df-4540d49a-9432-4dd3-9d7c-a3c41002d25e\">\n",
              "    <div class=\"colab-df-container\">\n",
              "      <div>\n",
              "<style scoped>\n",
              "    .dataframe tbody tr th:only-of-type {\n",
              "        vertical-align: middle;\n",
              "    }\n",
              "\n",
              "    .dataframe tbody tr th {\n",
              "        vertical-align: top;\n",
              "    }\n",
              "\n",
              "    .dataframe thead th {\n",
              "        text-align: right;\n",
              "    }\n",
              "</style>\n",
              "<table border=\"1\" class=\"dataframe\">\n",
              "  <thead>\n",
              "    <tr style=\"text-align: right;\">\n",
              "      <th></th>\n",
              "      <th>0</th>\n",
              "      <th>1</th>\n",
              "      <th>2</th>\n",
              "      <th>3</th>\n",
              "      <th>4</th>\n",
              "    </tr>\n",
              "  </thead>\n",
              "  <tbody>\n",
              "    <tr>\n",
              "      <th>produto_solicitado</th>\n",
              "      <td>1.0</td>\n",
              "      <td>1.0</td>\n",
              "      <td>1.0</td>\n",
              "      <td>1.0</td>\n",
              "      <td>7.0</td>\n",
              "    </tr>\n",
              "    <tr>\n",
              "      <th>dia_vencimento</th>\n",
              "      <td>10.0</td>\n",
              "      <td>25.0</td>\n",
              "      <td>20.0</td>\n",
              "      <td>20.0</td>\n",
              "      <td>1.0</td>\n",
              "    </tr>\n",
              "    <tr>\n",
              "      <th>tipo_endereco</th>\n",
              "      <td>1.0</td>\n",
              "      <td>1.0</td>\n",
              "      <td>1.0</td>\n",
              "      <td>1.0</td>\n",
              "      <td>1.0</td>\n",
              "    </tr>\n",
              "    <tr>\n",
              "      <th>idade</th>\n",
              "      <td>85.0</td>\n",
              "      <td>38.0</td>\n",
              "      <td>37.0</td>\n",
              "      <td>37.0</td>\n",
              "      <td>51.0</td>\n",
              "    </tr>\n",
              "    <tr>\n",
              "      <th>estado_civil</th>\n",
              "      <td>2.0</td>\n",
              "      <td>1.0</td>\n",
              "      <td>2.0</td>\n",
              "      <td>1.0</td>\n",
              "      <td>1.0</td>\n",
              "    </tr>\n",
              "    <tr>\n",
              "      <th>qtde_dependentes</th>\n",
              "      <td>0.0</td>\n",
              "      <td>0.0</td>\n",
              "      <td>0.0</td>\n",
              "      <td>1.0</td>\n",
              "      <td>3.0</td>\n",
              "    </tr>\n",
              "    <tr>\n",
              "      <th>nacionalidade</th>\n",
              "      <td>1.0</td>\n",
              "      <td>1.0</td>\n",
              "      <td>1.0</td>\n",
              "      <td>1.0</td>\n",
              "      <td>1.0</td>\n",
              "    </tr>\n",
              "    <tr>\n",
              "      <th>possui_telefone_residencial</th>\n",
              "      <td>1.0</td>\n",
              "      <td>1.0</td>\n",
              "      <td>1.0</td>\n",
              "      <td>1.0</td>\n",
              "      <td>1.0</td>\n",
              "    </tr>\n",
              "    <tr>\n",
              "      <th>tipo_residencia</th>\n",
              "      <td>1.0</td>\n",
              "      <td>1.0</td>\n",
              "      <td>5.0</td>\n",
              "      <td>1.0</td>\n",
              "      <td>0.0</td>\n",
              "    </tr>\n",
              "    <tr>\n",
              "      <th>meses_na_residencia</th>\n",
              "      <td>12.0</td>\n",
              "      <td>5.0</td>\n",
              "      <td>1.0</td>\n",
              "      <td>1.0</td>\n",
              "      <td>1.0</td>\n",
              "    </tr>\n",
              "    <tr>\n",
              "      <th>possui_email</th>\n",
              "      <td>0.0</td>\n",
              "      <td>1.0</td>\n",
              "      <td>1.0</td>\n",
              "      <td>1.0</td>\n",
              "      <td>1.0</td>\n",
              "    </tr>\n",
              "    <tr>\n",
              "      <th>renda_mensal_regular</th>\n",
              "      <td>480.0</td>\n",
              "      <td>380.0</td>\n",
              "      <td>600.0</td>\n",
              "      <td>460.0</td>\n",
              "      <td>687.0</td>\n",
              "    </tr>\n",
              "    <tr>\n",
              "      <th>renda_extra</th>\n",
              "      <td>0.0</td>\n",
              "      <td>0.0</td>\n",
              "      <td>0.0</td>\n",
              "      <td>0.0</td>\n",
              "      <td>600.0</td>\n",
              "    </tr>\n",
              "    <tr>\n",
              "      <th>possui_cartao_visa</th>\n",
              "      <td>0.0</td>\n",
              "      <td>0.0</td>\n",
              "      <td>0.0</td>\n",
              "      <td>0.0</td>\n",
              "      <td>0.0</td>\n",
              "    </tr>\n",
              "    <tr>\n",
              "      <th>possui_cartao_mastercard</th>\n",
              "      <td>0.0</td>\n",
              "      <td>0.0</td>\n",
              "      <td>0.0</td>\n",
              "      <td>0.0</td>\n",
              "      <td>0.0</td>\n",
              "    </tr>\n",
              "    <tr>\n",
              "      <th>possui_cartao_diners</th>\n",
              "      <td>0.0</td>\n",
              "      <td>0.0</td>\n",
              "      <td>0.0</td>\n",
              "      <td>0.0</td>\n",
              "      <td>0.0</td>\n",
              "    </tr>\n",
              "    <tr>\n",
              "      <th>possui_cartao_amex</th>\n",
              "      <td>0.0</td>\n",
              "      <td>0.0</td>\n",
              "      <td>0.0</td>\n",
              "      <td>0.0</td>\n",
              "      <td>0.0</td>\n",
              "    </tr>\n",
              "    <tr>\n",
              "      <th>possui_outros_cartoes</th>\n",
              "      <td>0.0</td>\n",
              "      <td>0.0</td>\n",
              "      <td>0.0</td>\n",
              "      <td>0.0</td>\n",
              "      <td>0.0</td>\n",
              "    </tr>\n",
              "    <tr>\n",
              "      <th>qtde_contas_bancarias</th>\n",
              "      <td>1.0</td>\n",
              "      <td>0.0</td>\n",
              "      <td>0.0</td>\n",
              "      <td>0.0</td>\n",
              "      <td>0.0</td>\n",
              "    </tr>\n",
              "    <tr>\n",
              "      <th>qtde_contas_bancarias_especiais</th>\n",
              "      <td>1.0</td>\n",
              "      <td>0.0</td>\n",
              "      <td>0.0</td>\n",
              "      <td>0.0</td>\n",
              "      <td>0.0</td>\n",
              "    </tr>\n",
              "    <tr>\n",
              "      <th>valor_patrimonio_pessoal</th>\n",
              "      <td>0.0</td>\n",
              "      <td>0.0</td>\n",
              "      <td>0.0</td>\n",
              "      <td>0.0</td>\n",
              "      <td>0.0</td>\n",
              "    </tr>\n",
              "    <tr>\n",
              "      <th>vinculo_formal_com_empresa</th>\n",
              "      <td>0.0</td>\n",
              "      <td>0.0</td>\n",
              "      <td>0.0</td>\n",
              "      <td>1.0</td>\n",
              "      <td>1.0</td>\n",
              "    </tr>\n",
              "    <tr>\n",
              "      <th>possui_telefone_trabalho</th>\n",
              "      <td>0.0</td>\n",
              "      <td>0.0</td>\n",
              "      <td>0.0</td>\n",
              "      <td>1.0</td>\n",
              "      <td>0.0</td>\n",
              "    </tr>\n",
              "    <tr>\n",
              "      <th>profissao</th>\n",
              "      <td>9.0</td>\n",
              "      <td>2.0</td>\n",
              "      <td>8.0</td>\n",
              "      <td>9.0</td>\n",
              "      <td>9.0</td>\n",
              "    </tr>\n",
              "    <tr>\n",
              "      <th>ocupacao</th>\n",
              "      <td>1.0</td>\n",
              "      <td>5.0</td>\n",
              "      <td>3.0</td>\n",
              "      <td>2.0</td>\n",
              "      <td>5.0</td>\n",
              "    </tr>\n",
              "    <tr>\n",
              "      <th>local_onde_reside</th>\n",
              "      <td>600.0</td>\n",
              "      <td>492.0</td>\n",
              "      <td>450.0</td>\n",
              "      <td>932.0</td>\n",
              "      <td>440.0</td>\n",
              "    </tr>\n",
              "    <tr>\n",
              "      <th>local_onde_trabalha</th>\n",
              "      <td>600.0</td>\n",
              "      <td>492.0</td>\n",
              "      <td>450.0</td>\n",
              "      <td>932.0</td>\n",
              "      <td>440.0</td>\n",
              "    </tr>\n",
              "    <tr>\n",
              "      <th>inadimplente</th>\n",
              "      <td>0.0</td>\n",
              "      <td>0.0</td>\n",
              "      <td>1.0</td>\n",
              "      <td>1.0</td>\n",
              "      <td>1.0</td>\n",
              "    </tr>\n",
              "    <tr>\n",
              "      <th>sexo_F</th>\n",
              "      <td>0.0</td>\n",
              "      <td>1.0</td>\n",
              "      <td>1.0</td>\n",
              "      <td>0.0</td>\n",
              "      <td>1.0</td>\n",
              "    </tr>\n",
              "    <tr>\n",
              "      <th>sexo_M</th>\n",
              "      <td>1.0</td>\n",
              "      <td>0.0</td>\n",
              "      <td>0.0</td>\n",
              "      <td>1.0</td>\n",
              "      <td>0.0</td>\n",
              "    </tr>\n",
              "    <tr>\n",
              "      <th>sexo_N</th>\n",
              "      <td>0.0</td>\n",
              "      <td>0.0</td>\n",
              "      <td>0.0</td>\n",
              "      <td>0.0</td>\n",
              "      <td>0.0</td>\n",
              "    </tr>\n",
              "    <tr>\n",
              "      <th>forma_envio_solicitacao_correio</th>\n",
              "      <td>0.0</td>\n",
              "      <td>0.0</td>\n",
              "      <td>0.0</td>\n",
              "      <td>0.0</td>\n",
              "      <td>0.0</td>\n",
              "    </tr>\n",
              "    <tr>\n",
              "      <th>forma_envio_solicitacao_internet</th>\n",
              "      <td>0.0</td>\n",
              "      <td>1.0</td>\n",
              "      <td>1.0</td>\n",
              "      <td>1.0</td>\n",
              "      <td>1.0</td>\n",
              "    </tr>\n",
              "    <tr>\n",
              "      <th>forma_envio_solicitacao_presencial</th>\n",
              "      <td>1.0</td>\n",
              "      <td>0.0</td>\n",
              "      <td>0.0</td>\n",
              "      <td>0.0</td>\n",
              "      <td>0.0</td>\n",
              "    </tr>\n",
              "  </tbody>\n",
              "</table>\n",
              "</div>\n",
              "      <button class=\"colab-df-convert\" onclick=\"convertToInteractive('df-4540d49a-9432-4dd3-9d7c-a3c41002d25e')\"\n",
              "              title=\"Convert this dataframe to an interactive table.\"\n",
              "              style=\"display:none;\">\n",
              "        \n",
              "  <svg xmlns=\"http://www.w3.org/2000/svg\" height=\"24px\"viewBox=\"0 0 24 24\"\n",
              "       width=\"24px\">\n",
              "    <path d=\"M0 0h24v24H0V0z\" fill=\"none\"/>\n",
              "    <path d=\"M18.56 5.44l.94 2.06.94-2.06 2.06-.94-2.06-.94-.94-2.06-.94 2.06-2.06.94zm-11 1L8.5 8.5l.94-2.06 2.06-.94-2.06-.94L8.5 2.5l-.94 2.06-2.06.94zm10 10l.94 2.06.94-2.06 2.06-.94-2.06-.94-.94-2.06-.94 2.06-2.06.94z\"/><path d=\"M17.41 7.96l-1.37-1.37c-.4-.4-.92-.59-1.43-.59-.52 0-1.04.2-1.43.59L10.3 9.45l-7.72 7.72c-.78.78-.78 2.05 0 2.83L4 21.41c.39.39.9.59 1.41.59.51 0 1.02-.2 1.41-.59l7.78-7.78 2.81-2.81c.8-.78.8-2.07 0-2.86zM5.41 20L4 18.59l7.72-7.72 1.47 1.35L5.41 20z\"/>\n",
              "  </svg>\n",
              "      </button>\n",
              "      \n",
              "  <style>\n",
              "    .colab-df-container {\n",
              "      display:flex;\n",
              "      flex-wrap:wrap;\n",
              "      gap: 12px;\n",
              "    }\n",
              "\n",
              "    .colab-df-convert {\n",
              "      background-color: #E8F0FE;\n",
              "      border: none;\n",
              "      border-radius: 50%;\n",
              "      cursor: pointer;\n",
              "      display: none;\n",
              "      fill: #1967D2;\n",
              "      height: 32px;\n",
              "      padding: 0 0 0 0;\n",
              "      width: 32px;\n",
              "    }\n",
              "\n",
              "    .colab-df-convert:hover {\n",
              "      background-color: #E2EBFA;\n",
              "      box-shadow: 0px 1px 2px rgba(60, 64, 67, 0.3), 0px 1px 3px 1px rgba(60, 64, 67, 0.15);\n",
              "      fill: #174EA6;\n",
              "    }\n",
              "\n",
              "    [theme=dark] .colab-df-convert {\n",
              "      background-color: #3B4455;\n",
              "      fill: #D2E3FC;\n",
              "    }\n",
              "\n",
              "    [theme=dark] .colab-df-convert:hover {\n",
              "      background-color: #434B5C;\n",
              "      box-shadow: 0px 1px 3px 1px rgba(0, 0, 0, 0.15);\n",
              "      filter: drop-shadow(0px 1px 2px rgba(0, 0, 0, 0.3));\n",
              "      fill: #FFFFFF;\n",
              "    }\n",
              "  </style>\n",
              "\n",
              "      <script>\n",
              "        const buttonEl =\n",
              "          document.querySelector('#df-4540d49a-9432-4dd3-9d7c-a3c41002d25e button.colab-df-convert');\n",
              "        buttonEl.style.display =\n",
              "          google.colab.kernel.accessAllowed ? 'block' : 'none';\n",
              "\n",
              "        async function convertToInteractive(key) {\n",
              "          const element = document.querySelector('#df-4540d49a-9432-4dd3-9d7c-a3c41002d25e');\n",
              "          const dataTable =\n",
              "            await google.colab.kernel.invokeFunction('convertToInteractive',\n",
              "                                                     [key], {});\n",
              "          if (!dataTable) return;\n",
              "\n",
              "          const docLinkHtml = 'Like what you see? Visit the ' +\n",
              "            '<a target=\"_blank\" href=https://colab.research.google.com/notebooks/data_table.ipynb>data table notebook</a>'\n",
              "            + ' to learn more about interactive tables.';\n",
              "          element.innerHTML = '';\n",
              "          dataTable['output_type'] = 'display_data';\n",
              "          await google.colab.output.renderOutput(dataTable, element);\n",
              "          const docLink = document.createElement('div');\n",
              "          docLink.innerHTML = docLinkHtml;\n",
              "          element.appendChild(docLink);\n",
              "        }\n",
              "      </script>\n",
              "    </div>\n",
              "  </div>\n",
              "  "
            ]
          },
          "metadata": {},
          "execution_count": 53
        }
      ]
    },
    {
      "cell_type": "markdown",
      "source": [
        "###Matriz de Correlação"
      ],
      "metadata": {
        "id": "ircjBrvlhtfP"
      }
    },
    {
      "cell_type": "code",
      "source": [
        "#Seta o tamanho de plotagem\n",
        "sns.set(rc={'figure.figsize':(150,150)})\n",
        "sns.set_context(context='paper',font_scale=7)\n",
        "#Plota a matriz de correlação\n",
        "sns.heatmap(df_treino.loc[:, df_treino.columns != 'SalePrice'].corr(), annot = True, cmap='nipy_spectral', vmin=-1, vmax=1)"
      ],
      "metadata": {
        "id": "ZSqNgvBshwjQ"
      },
      "execution_count": null,
      "outputs": []
    },
    {
      "cell_type": "markdown",
      "source": [
        "###Analisando atributos com valores vazios"
      ],
      "metadata": {
        "id": "6Ruei8QStKjm"
      }
    },
    {
      "cell_type": "code",
      "source": [
        "plt.figure(figsize=(25,10))\n",
        "sns.set_context('talk')\n",
        "\n",
        "hm = sns.heatmap(df_treino.isnull(),yticklabels=False,cbar=False)\n",
        "hm.set_yticklabels(labels=hm.get_yticklabels(), va='center')"
      ],
      "metadata": {
        "id": "_VNXj5YPtZeT"
      },
      "execution_count": null,
      "outputs": []
    },
    {
      "cell_type": "markdown",
      "source": [
        "Calculando a porcentagem de valores vazios em cada coluna:"
      ],
      "metadata": {
        "id": "1IyY6TJFwmkl"
      }
    },
    {
      "cell_type": "code",
      "source": [
        "#Troca valores \" \" por Nulo\n",
        "df_treino = df_treino.replace(\" \", np.nan)\n",
        "\n",
        "#Calcula o número de valores nulos ou \" \" em cada coluna\n",
        "num_nulos = df_treino.isna().sum()\n",
        "#Filtro - aparecer apenas colunas com nulos\n",
        "num_nulos = num_nulos[num_nulos > 0]\n",
        "\n",
        "#Calcula o percentual de nulos em cada coluna\n",
        "num_linhas = df_treino.shape[0]\n",
        "perc_nulos = num_nulos.apply(lambda x:(x/num_linhas)*100)\n",
        "decrescente_perc_nulos = pd.Series(perc_nulos).sort_values(ascending=False)\n",
        "decrescente_perc_nulos"
      ],
      "metadata": {
        "id": "8ishiEXiwrKV"
      },
      "execution_count": null,
      "outputs": []
    },
    {
      "cell_type": "markdown",
      "source": [
        "###Variáveis Categóricas e Cardinalidade"
      ],
      "metadata": {
        "id": "3mdoopbtEHsW"
      }
    },
    {
      "cell_type": "code",
      "source": [
        "df_treino.dtypes"
      ],
      "metadata": {
        "id": "FzIS5T6b_Q27"
      },
      "execution_count": null,
      "outputs": []
    },
    {
      "cell_type": "markdown",
      "source": [
        "####Identificando Variáveis Categóricas:"
      ],
      "metadata": {
        "id": "Q_n53_fI_Xmq"
      }
    },
    {
      "cell_type": "code",
      "source": [
        "variaveis_categoricas = [\n",
        "  x for x in df_treino.columns if df_treino[x].dtypes==\"object\"\n",
        "]\n",
        "print(variaveis_categoricas)"
      ],
      "metadata": {
        "id": "by13Y5cN_ajL"
      },
      "execution_count": null,
      "outputs": []
    },
    {
      "cell_type": "markdown",
      "source": [
        "####Verificando a Cardinalidade das Variáveis Categóricas:"
      ],
      "metadata": {
        "id": "PzGQozy8DAXu"
      }
    },
    {
      "cell_type": "code",
      "source": [
        "for v in variaveis_categoricas:\n",
        "  print(\"\\n%15s:\"%v, \"%4d categorias\" % len(df_treino[v].unique()))\n",
        "  print(df_treino[v].unique())"
      ],
      "metadata": {
        "id": "1-S5w0xfDD7U"
      },
      "execution_count": null,
      "outputs": []
    },
    {
      "cell_type": "markdown",
      "source": [
        "forma_envio_solicitacao --> não-ordinal com 3 categorias **-> one-hot encoding**\n",
        "\n",
        "sexo --> não-ordinal com 4 categorias **-> tratamento do nulo e one-hot encoding**\n",
        "\n",
        "estado_onde_nasceu --> não-ordinal com 28 categorias **-> descartar**\n",
        "\n",
        "estado_onde_reside --> não-ordinal com 27 categorias **-> descartar**\n",
        "\n",
        "possui_telefone_residencial --> binária **-> binarizar (mapear para 0 ou 1)**\n",
        "\n",
        "codigo_area_telefone_residencial --> não-ordinal com 81 categorias **-> descartar**\n",
        "\n",
        "possui_telefone_celular -> binária  **-> binarizar (mapear para 0 ou 1)**\n",
        "\n",
        "vinculo_formal_com_empresa --> binária **-> binarizar (mapear para 0 ou 1)**\n",
        "\n",
        "estado_onde_trabalha --> não-ordinal com 28 categorias **-> descartar**\n",
        "\n",
        "possui_telefone_trabalho --> binária **-> binarizar (mapear para 0 ou 1)**\n",
        "\n",
        "codigo_area_telefone_trabalho --> não-ordinal com 77 categorias **-> descartar**"
      ],
      "metadata": {
        "id": "ez4-x0JTOvkg"
      }
    },
    {
      "cell_type": "markdown",
      "source": [
        "##Tratamento do Dataset"
      ],
      "metadata": {
        "id": "bPDRJQeCsaFf"
      }
    },
    {
      "cell_type": "markdown",
      "source": [
        "###Exclusão de atributos desnecessários"
      ],
      "metadata": {
        "id": "EXa66mO2AlYS"
      }
    },
    {
      "cell_type": "code",
      "source": [
        "#Decisão feita com base no dicionário de dados fornecido no Kaggle e a Matriz de Correlação acima.\n",
        "del df_treino[\"id_solicitante\"] #Dicionário\n",
        "del df_treino[\"possui_telefone_celular\"] #Apenas valor N\n",
        "del df_treino[\"possui_carro\"] #Matriz de Correlação\n",
        "del df_treino[\"grau_instrucao\"] #Coluna totalmente vazia\n",
        "del df_treino[\"meses_no_trabalho\"] #Grande maioria da coluna vazia\n",
        "\n",
        "#Remoção baseada na cardinalidade das variáveis categóricas\n",
        "del df_treino[\"estado_onde_nasceu\"]\n",
        "del df_treino[\"estado_onde_reside\"]\n",
        "del df_treino[\"codigo_area_telefone_residencial\"]\n",
        "del df_treino[\"estado_onde_trabalha\"]\n",
        "del df_treino[\"codigo_area_telefone_trabalho\"]"
      ],
      "metadata": {
        "id": "PPsV6wjxAvcx"
      },
      "execution_count": 33,
      "outputs": []
    },
    {
      "cell_type": "code",
      "source": [
        "df_treino.columns"
      ],
      "metadata": {
        "colab": {
          "base_uri": "https://localhost:8080/"
        },
        "id": "bzAkfE0NdI-O",
        "outputId": "88a65465-03a7-47c8-b05c-315d2de69c52"
      },
      "execution_count": null,
      "outputs": [
        {
          "output_type": "execute_result",
          "data": {
            "text/plain": [
              "Index(['produto_solicitado', 'dia_vencimento', 'forma_envio_solicitacao',\n",
              "       'tipo_endereco', 'sexo', 'idade', 'estado_civil', 'qtde_dependentes',\n",
              "       'nacionalidade', 'possui_telefone_residencial', 'tipo_residencia',\n",
              "       'meses_na_residencia', 'possui_email', 'renda_mensal_regular',\n",
              "       'renda_extra', 'possui_cartao_visa', 'possui_cartao_mastercard',\n",
              "       'possui_cartao_diners', 'possui_cartao_amex', 'possui_outros_cartoes',\n",
              "       'qtde_contas_bancarias', 'qtde_contas_bancarias_especiais',\n",
              "       'valor_patrimonio_pessoal', 'vinculo_formal_com_empresa',\n",
              "       'possui_telefone_trabalho', 'profissao', 'ocupacao',\n",
              "       'profissao_companheiro', 'grau_instrucao_companheiro',\n",
              "       'local_onde_reside', 'local_onde_trabalha', 'inadimplente'],\n",
              "      dtype='object')"
            ]
          },
          "metadata": {},
          "execution_count": 7
        }
      ]
    },
    {
      "cell_type": "markdown",
      "source": [
        "###Tratamento - Colunas com valor nulo"
      ],
      "metadata": {
        "id": "9SY6EbSPWhB8"
      }
    },
    {
      "cell_type": "markdown",
      "source": [
        "Observando-se novamente os atributos com valores vazios:"
      ],
      "metadata": {
        "id": "5mB0kBTzZjif"
      }
    },
    {
      "cell_type": "code",
      "source": [
        "#Recalculando o a porcentagem de nulos\n",
        "df_treino = df_treino.replace(\" \", np.nan)\n",
        "num_nulos = df_treino.isna().sum()\n",
        "num_nulos = num_nulos[num_nulos > 0]\n",
        "num_linhas = df_treino.shape[0]\n",
        "perc_nulos = num_nulos.apply(lambda x:(x/num_linhas)*100)\n",
        "decrescente_perc_nulos = pd.Series(perc_nulos).sort_values(ascending=False)\n",
        "decrescente_perc_nulos"
      ],
      "metadata": {
        "colab": {
          "base_uri": "https://localhost:8080/"
        },
        "id": "JJCobZtzZi3N",
        "outputId": "f659b54a-bf9b-46f9-aa45-6801a8ec939a"
      },
      "execution_count": 34,
      "outputs": [
        {
          "output_type": "execute_result",
          "data": {
            "text/plain": [
              "grau_instrucao_companheiro    64.300\n",
              "profissao_companheiro         57.570\n",
              "profissao                     15.485\n",
              "ocupacao                      14.890\n",
              "meses_na_residencia            7.250\n",
              "tipo_residencia                2.680\n",
              "sexo                           0.035\n",
              "dtype: float64"
            ]
          },
          "metadata": {},
          "execution_count": 34
        }
      ]
    },
    {
      "cell_type": "markdown",
      "source": [
        "Levando-se em consideração que existem diversas colunas com mais de 50% de valores nulos e que, devido à pouca quantidade não serão de bom uso para o estudo, elas serão removidas da base."
      ],
      "metadata": {
        "id": "bJS-FfBJy_D1"
      }
    },
    {
      "cell_type": "code",
      "source": [
        "for p in decrescente_perc_nulos:\n",
        "  if p >= 50:\n",
        "    del df_treino[decrescente_perc_nulos[decrescente_perc_nulos == p].index[0]]"
      ],
      "metadata": {
        "id": "cD3LsFnH0mtz"
      },
      "execution_count": 35,
      "outputs": []
    },
    {
      "cell_type": "markdown",
      "source": [
        "Já em relação aos outros atributos listados, será utilizada a média (arredondada para inteiros) para preencher os campos nulos das variáveis numéricas e um valor neutro para o preenchimento das variáveis categóricas."
      ],
      "metadata": {
        "id": "ui9Sxo0GzAWA"
      }
    },
    {
      "cell_type": "code",
      "source": [
        "for p in decrescente_perc_nulos:\n",
        "  if p < 50:\n",
        "    atributo = decrescente_perc_nulos[decrescente_perc_nulos == p].index[0]\n",
        "    print(atributo, \" - \", df_treino[atributo].dtypes)"
      ],
      "metadata": {
        "colab": {
          "base_uri": "https://localhost:8080/"
        },
        "id": "16WXnjpMdum1",
        "outputId": "99131c23-b991-4895-85a6-f5a8e6fdae72"
      },
      "execution_count": 36,
      "outputs": [
        {
          "output_type": "stream",
          "name": "stdout",
          "text": [
            "profissao  -  float64\n",
            "ocupacao  -  float64\n",
            "meses_na_residencia  -  float64\n",
            "tipo_residencia  -  float64\n",
            "sexo  -  object\n"
          ]
        }
      ]
    },
    {
      "cell_type": "code",
      "source": [
        "#Preenchimento dos campos nulos em \"sexo\" por \"N\":\n",
        "df_treino[[\"sexo\"]] = df_treino[[\"sexo\"]].fillna(value=\"N\")"
      ],
      "metadata": {
        "id": "w1AmiU1kIdNa"
      },
      "execution_count": 37,
      "outputs": []
    },
    {
      "cell_type": "code",
      "source": [
        "#Preenchimento dos campos nulos em \"profissao\", \"ocupacao\", \"meses_na_residencia\" e \"tipo_residencia\" pela média respectiva.\n",
        "for p in decrescente_perc_nulos:\n",
        "  atributo = decrescente_perc_nulos[decrescente_perc_nulos == p].index[0]\n",
        "  if p < 50 and atributo != \"sexo\":\n",
        "    df_treino[[atributo]] = df_treino[[atributo]].fillna(value=df_treino[[atributo]].mean().round())"
      ],
      "metadata": {
        "id": "irMzUTMXKUX6"
      },
      "execution_count": 38,
      "outputs": []
    },
    {
      "cell_type": "code",
      "source": [
        "df_treino.describe()"
      ],
      "metadata": {
        "colab": {
          "base_uri": "https://localhost:8080/",
          "height": 0
        },
        "id": "tuLvNb6m0Eeb",
        "outputId": "6d794b7d-d3ed-41f1-859e-d3178a61b047"
      },
      "execution_count": 39,
      "outputs": [
        {
          "output_type": "execute_result",
          "data": {
            "text/plain": [
              "       produto_solicitado  dia_vencimento  tipo_endereco         idade  \\\n",
              "count        20000.000000    20000.000000   20000.000000  20000.000000   \n",
              "mean             1.284350       13.147250       1.006350     42.352500   \n",
              "std              1.008239        6.748507       0.079435     14.930177   \n",
              "min              1.000000        1.000000       1.000000      7.000000   \n",
              "25%              1.000000       10.000000       1.000000     31.000000   \n",
              "50%              1.000000       10.000000       1.000000     40.000000   \n",
              "75%              1.000000       20.000000       1.000000     52.000000   \n",
              "max              7.000000       25.000000       2.000000    106.000000   \n",
              "\n",
              "       estado_civil  qtde_dependentes  nacionalidade  tipo_residencia  \\\n",
              "count  20000.000000      20000.000000   20000.000000      20000.00000   \n",
              "mean       2.120850          0.666400       0.961600          1.25430   \n",
              "std        1.332004          1.236725       0.202305          0.87268   \n",
              "min        0.000000          0.000000       0.000000          0.00000   \n",
              "25%        1.000000          0.000000       1.000000          1.00000   \n",
              "50%        2.000000          0.000000       1.000000          1.00000   \n",
              "75%        2.000000          1.000000       1.000000          1.00000   \n",
              "max        7.000000         53.000000       2.000000          5.00000   \n",
              "\n",
              "       meses_na_residencia  possui_email  ...  possui_cartao_amex  \\\n",
              "count         20000.000000  20000.000000  ...        20000.000000   \n",
              "mean              9.603450      0.799200  ...            0.002050   \n",
              "std              10.256849      0.400609  ...            0.045232   \n",
              "min               0.000000      0.000000  ...            0.000000   \n",
              "25%               2.000000      1.000000  ...            0.000000   \n",
              "50%               7.000000      1.000000  ...            0.000000   \n",
              "75%              13.000000      1.000000  ...            0.000000   \n",
              "max             228.000000      1.000000  ...            1.000000   \n",
              "\n",
              "       possui_outros_cartoes  qtde_contas_bancarias  \\\n",
              "count           20000.000000           20000.000000   \n",
              "mean                0.002250               0.361100   \n",
              "std                 0.047382               0.481164   \n",
              "min                 0.000000               0.000000   \n",
              "25%                 0.000000               0.000000   \n",
              "50%                 0.000000               0.000000   \n",
              "75%                 0.000000               1.000000   \n",
              "max                 1.000000               2.000000   \n",
              "\n",
              "       qtde_contas_bancarias_especiais  valor_patrimonio_pessoal  \\\n",
              "count                     20000.000000              2.000000e+04   \n",
              "mean                          0.361100              2.095614e+03   \n",
              "std                           0.481164              4.403344e+04   \n",
              "min                           0.000000              0.000000e+00   \n",
              "25%                           0.000000              0.000000e+00   \n",
              "50%                           0.000000              0.000000e+00   \n",
              "75%                           1.000000              0.000000e+00   \n",
              "max                           2.000000              6.000000e+06   \n",
              "\n",
              "          profissao      ocupacao  local_onde_reside  local_onde_trabalha  \\\n",
              "count  20000.000000  20000.000000       20000.000000         20000.000000   \n",
              "mean       8.038100      2.602800         581.295250           581.295250   \n",
              "std        2.951776      1.423774         227.369798           227.369798   \n",
              "min        0.000000      0.000000         105.000000           105.000000   \n",
              "25%        8.000000      2.000000         444.000000           444.000000   \n",
              "50%        9.000000      2.000000         596.000000           596.000000   \n",
              "75%        9.000000      4.000000         728.000000           728.000000   \n",
              "max       17.000000      5.000000         999.000000           999.000000   \n",
              "\n",
              "       inadimplente  \n",
              "count  20000.000000  \n",
              "mean       0.500000  \n",
              "std        0.500013  \n",
              "min        0.000000  \n",
              "25%        0.000000  \n",
              "50%        0.500000  \n",
              "75%        1.000000  \n",
              "max        1.000000  \n",
              "\n",
              "[8 rows x 25 columns]"
            ],
            "text/html": [
              "\n",
              "  <div id=\"df-5a5322fe-88d8-4d52-a4a6-cf4a5448e32c\">\n",
              "    <div class=\"colab-df-container\">\n",
              "      <div>\n",
              "<style scoped>\n",
              "    .dataframe tbody tr th:only-of-type {\n",
              "        vertical-align: middle;\n",
              "    }\n",
              "\n",
              "    .dataframe tbody tr th {\n",
              "        vertical-align: top;\n",
              "    }\n",
              "\n",
              "    .dataframe thead th {\n",
              "        text-align: right;\n",
              "    }\n",
              "</style>\n",
              "<table border=\"1\" class=\"dataframe\">\n",
              "  <thead>\n",
              "    <tr style=\"text-align: right;\">\n",
              "      <th></th>\n",
              "      <th>produto_solicitado</th>\n",
              "      <th>dia_vencimento</th>\n",
              "      <th>tipo_endereco</th>\n",
              "      <th>idade</th>\n",
              "      <th>estado_civil</th>\n",
              "      <th>qtde_dependentes</th>\n",
              "      <th>nacionalidade</th>\n",
              "      <th>tipo_residencia</th>\n",
              "      <th>meses_na_residencia</th>\n",
              "      <th>possui_email</th>\n",
              "      <th>...</th>\n",
              "      <th>possui_cartao_amex</th>\n",
              "      <th>possui_outros_cartoes</th>\n",
              "      <th>qtde_contas_bancarias</th>\n",
              "      <th>qtde_contas_bancarias_especiais</th>\n",
              "      <th>valor_patrimonio_pessoal</th>\n",
              "      <th>profissao</th>\n",
              "      <th>ocupacao</th>\n",
              "      <th>local_onde_reside</th>\n",
              "      <th>local_onde_trabalha</th>\n",
              "      <th>inadimplente</th>\n",
              "    </tr>\n",
              "  </thead>\n",
              "  <tbody>\n",
              "    <tr>\n",
              "      <th>count</th>\n",
              "      <td>20000.000000</td>\n",
              "      <td>20000.000000</td>\n",
              "      <td>20000.000000</td>\n",
              "      <td>20000.000000</td>\n",
              "      <td>20000.000000</td>\n",
              "      <td>20000.000000</td>\n",
              "      <td>20000.000000</td>\n",
              "      <td>20000.00000</td>\n",
              "      <td>20000.000000</td>\n",
              "      <td>20000.000000</td>\n",
              "      <td>...</td>\n",
              "      <td>20000.000000</td>\n",
              "      <td>20000.000000</td>\n",
              "      <td>20000.000000</td>\n",
              "      <td>20000.000000</td>\n",
              "      <td>2.000000e+04</td>\n",
              "      <td>20000.000000</td>\n",
              "      <td>20000.000000</td>\n",
              "      <td>20000.000000</td>\n",
              "      <td>20000.000000</td>\n",
              "      <td>20000.000000</td>\n",
              "    </tr>\n",
              "    <tr>\n",
              "      <th>mean</th>\n",
              "      <td>1.284350</td>\n",
              "      <td>13.147250</td>\n",
              "      <td>1.006350</td>\n",
              "      <td>42.352500</td>\n",
              "      <td>2.120850</td>\n",
              "      <td>0.666400</td>\n",
              "      <td>0.961600</td>\n",
              "      <td>1.25430</td>\n",
              "      <td>9.603450</td>\n",
              "      <td>0.799200</td>\n",
              "      <td>...</td>\n",
              "      <td>0.002050</td>\n",
              "      <td>0.002250</td>\n",
              "      <td>0.361100</td>\n",
              "      <td>0.361100</td>\n",
              "      <td>2.095614e+03</td>\n",
              "      <td>8.038100</td>\n",
              "      <td>2.602800</td>\n",
              "      <td>581.295250</td>\n",
              "      <td>581.295250</td>\n",
              "      <td>0.500000</td>\n",
              "    </tr>\n",
              "    <tr>\n",
              "      <th>std</th>\n",
              "      <td>1.008239</td>\n",
              "      <td>6.748507</td>\n",
              "      <td>0.079435</td>\n",
              "      <td>14.930177</td>\n",
              "      <td>1.332004</td>\n",
              "      <td>1.236725</td>\n",
              "      <td>0.202305</td>\n",
              "      <td>0.87268</td>\n",
              "      <td>10.256849</td>\n",
              "      <td>0.400609</td>\n",
              "      <td>...</td>\n",
              "      <td>0.045232</td>\n",
              "      <td>0.047382</td>\n",
              "      <td>0.481164</td>\n",
              "      <td>0.481164</td>\n",
              "      <td>4.403344e+04</td>\n",
              "      <td>2.951776</td>\n",
              "      <td>1.423774</td>\n",
              "      <td>227.369798</td>\n",
              "      <td>227.369798</td>\n",
              "      <td>0.500013</td>\n",
              "    </tr>\n",
              "    <tr>\n",
              "      <th>min</th>\n",
              "      <td>1.000000</td>\n",
              "      <td>1.000000</td>\n",
              "      <td>1.000000</td>\n",
              "      <td>7.000000</td>\n",
              "      <td>0.000000</td>\n",
              "      <td>0.000000</td>\n",
              "      <td>0.000000</td>\n",
              "      <td>0.00000</td>\n",
              "      <td>0.000000</td>\n",
              "      <td>0.000000</td>\n",
              "      <td>...</td>\n",
              "      <td>0.000000</td>\n",
              "      <td>0.000000</td>\n",
              "      <td>0.000000</td>\n",
              "      <td>0.000000</td>\n",
              "      <td>0.000000e+00</td>\n",
              "      <td>0.000000</td>\n",
              "      <td>0.000000</td>\n",
              "      <td>105.000000</td>\n",
              "      <td>105.000000</td>\n",
              "      <td>0.000000</td>\n",
              "    </tr>\n",
              "    <tr>\n",
              "      <th>25%</th>\n",
              "      <td>1.000000</td>\n",
              "      <td>10.000000</td>\n",
              "      <td>1.000000</td>\n",
              "      <td>31.000000</td>\n",
              "      <td>1.000000</td>\n",
              "      <td>0.000000</td>\n",
              "      <td>1.000000</td>\n",
              "      <td>1.00000</td>\n",
              "      <td>2.000000</td>\n",
              "      <td>1.000000</td>\n",
              "      <td>...</td>\n",
              "      <td>0.000000</td>\n",
              "      <td>0.000000</td>\n",
              "      <td>0.000000</td>\n",
              "      <td>0.000000</td>\n",
              "      <td>0.000000e+00</td>\n",
              "      <td>8.000000</td>\n",
              "      <td>2.000000</td>\n",
              "      <td>444.000000</td>\n",
              "      <td>444.000000</td>\n",
              "      <td>0.000000</td>\n",
              "    </tr>\n",
              "    <tr>\n",
              "      <th>50%</th>\n",
              "      <td>1.000000</td>\n",
              "      <td>10.000000</td>\n",
              "      <td>1.000000</td>\n",
              "      <td>40.000000</td>\n",
              "      <td>2.000000</td>\n",
              "      <td>0.000000</td>\n",
              "      <td>1.000000</td>\n",
              "      <td>1.00000</td>\n",
              "      <td>7.000000</td>\n",
              "      <td>1.000000</td>\n",
              "      <td>...</td>\n",
              "      <td>0.000000</td>\n",
              "      <td>0.000000</td>\n",
              "      <td>0.000000</td>\n",
              "      <td>0.000000</td>\n",
              "      <td>0.000000e+00</td>\n",
              "      <td>9.000000</td>\n",
              "      <td>2.000000</td>\n",
              "      <td>596.000000</td>\n",
              "      <td>596.000000</td>\n",
              "      <td>0.500000</td>\n",
              "    </tr>\n",
              "    <tr>\n",
              "      <th>75%</th>\n",
              "      <td>1.000000</td>\n",
              "      <td>20.000000</td>\n",
              "      <td>1.000000</td>\n",
              "      <td>52.000000</td>\n",
              "      <td>2.000000</td>\n",
              "      <td>1.000000</td>\n",
              "      <td>1.000000</td>\n",
              "      <td>1.00000</td>\n",
              "      <td>13.000000</td>\n",
              "      <td>1.000000</td>\n",
              "      <td>...</td>\n",
              "      <td>0.000000</td>\n",
              "      <td>0.000000</td>\n",
              "      <td>1.000000</td>\n",
              "      <td>1.000000</td>\n",
              "      <td>0.000000e+00</td>\n",
              "      <td>9.000000</td>\n",
              "      <td>4.000000</td>\n",
              "      <td>728.000000</td>\n",
              "      <td>728.000000</td>\n",
              "      <td>1.000000</td>\n",
              "    </tr>\n",
              "    <tr>\n",
              "      <th>max</th>\n",
              "      <td>7.000000</td>\n",
              "      <td>25.000000</td>\n",
              "      <td>2.000000</td>\n",
              "      <td>106.000000</td>\n",
              "      <td>7.000000</td>\n",
              "      <td>53.000000</td>\n",
              "      <td>2.000000</td>\n",
              "      <td>5.00000</td>\n",
              "      <td>228.000000</td>\n",
              "      <td>1.000000</td>\n",
              "      <td>...</td>\n",
              "      <td>1.000000</td>\n",
              "      <td>1.000000</td>\n",
              "      <td>2.000000</td>\n",
              "      <td>2.000000</td>\n",
              "      <td>6.000000e+06</td>\n",
              "      <td>17.000000</td>\n",
              "      <td>5.000000</td>\n",
              "      <td>999.000000</td>\n",
              "      <td>999.000000</td>\n",
              "      <td>1.000000</td>\n",
              "    </tr>\n",
              "  </tbody>\n",
              "</table>\n",
              "<p>8 rows × 25 columns</p>\n",
              "</div>\n",
              "      <button class=\"colab-df-convert\" onclick=\"convertToInteractive('df-5a5322fe-88d8-4d52-a4a6-cf4a5448e32c')\"\n",
              "              title=\"Convert this dataframe to an interactive table.\"\n",
              "              style=\"display:none;\">\n",
              "        \n",
              "  <svg xmlns=\"http://www.w3.org/2000/svg\" height=\"24px\"viewBox=\"0 0 24 24\"\n",
              "       width=\"24px\">\n",
              "    <path d=\"M0 0h24v24H0V0z\" fill=\"none\"/>\n",
              "    <path d=\"M18.56 5.44l.94 2.06.94-2.06 2.06-.94-2.06-.94-.94-2.06-.94 2.06-2.06.94zm-11 1L8.5 8.5l.94-2.06 2.06-.94-2.06-.94L8.5 2.5l-.94 2.06-2.06.94zm10 10l.94 2.06.94-2.06 2.06-.94-2.06-.94-.94-2.06-.94 2.06-2.06.94z\"/><path d=\"M17.41 7.96l-1.37-1.37c-.4-.4-.92-.59-1.43-.59-.52 0-1.04.2-1.43.59L10.3 9.45l-7.72 7.72c-.78.78-.78 2.05 0 2.83L4 21.41c.39.39.9.59 1.41.59.51 0 1.02-.2 1.41-.59l7.78-7.78 2.81-2.81c.8-.78.8-2.07 0-2.86zM5.41 20L4 18.59l7.72-7.72 1.47 1.35L5.41 20z\"/>\n",
              "  </svg>\n",
              "      </button>\n",
              "      \n",
              "  <style>\n",
              "    .colab-df-container {\n",
              "      display:flex;\n",
              "      flex-wrap:wrap;\n",
              "      gap: 12px;\n",
              "    }\n",
              "\n",
              "    .colab-df-convert {\n",
              "      background-color: #E8F0FE;\n",
              "      border: none;\n",
              "      border-radius: 50%;\n",
              "      cursor: pointer;\n",
              "      display: none;\n",
              "      fill: #1967D2;\n",
              "      height: 32px;\n",
              "      padding: 0 0 0 0;\n",
              "      width: 32px;\n",
              "    }\n",
              "\n",
              "    .colab-df-convert:hover {\n",
              "      background-color: #E2EBFA;\n",
              "      box-shadow: 0px 1px 2px rgba(60, 64, 67, 0.3), 0px 1px 3px 1px rgba(60, 64, 67, 0.15);\n",
              "      fill: #174EA6;\n",
              "    }\n",
              "\n",
              "    [theme=dark] .colab-df-convert {\n",
              "      background-color: #3B4455;\n",
              "      fill: #D2E3FC;\n",
              "    }\n",
              "\n",
              "    [theme=dark] .colab-df-convert:hover {\n",
              "      background-color: #434B5C;\n",
              "      box-shadow: 0px 1px 3px 1px rgba(0, 0, 0, 0.15);\n",
              "      filter: drop-shadow(0px 1px 2px rgba(0, 0, 0, 0.3));\n",
              "      fill: #FFFFFF;\n",
              "    }\n",
              "  </style>\n",
              "\n",
              "      <script>\n",
              "        const buttonEl =\n",
              "          document.querySelector('#df-5a5322fe-88d8-4d52-a4a6-cf4a5448e32c button.colab-df-convert');\n",
              "        buttonEl.style.display =\n",
              "          google.colab.kernel.accessAllowed ? 'block' : 'none';\n",
              "\n",
              "        async function convertToInteractive(key) {\n",
              "          const element = document.querySelector('#df-5a5322fe-88d8-4d52-a4a6-cf4a5448e32c');\n",
              "          const dataTable =\n",
              "            await google.colab.kernel.invokeFunction('convertToInteractive',\n",
              "                                                     [key], {});\n",
              "          if (!dataTable) return;\n",
              "\n",
              "          const docLinkHtml = 'Like what you see? Visit the ' +\n",
              "            '<a target=\"_blank\" href=https://colab.research.google.com/notebooks/data_table.ipynb>data table notebook</a>'\n",
              "            + ' to learn more about interactive tables.';\n",
              "          element.innerHTML = '';\n",
              "          dataTable['output_type'] = 'display_data';\n",
              "          await google.colab.output.renderOutput(dataTable, element);\n",
              "          const docLink = document.createElement('div');\n",
              "          docLink.innerHTML = docLinkHtml;\n",
              "          element.appendChild(docLink);\n",
              "        }\n",
              "      </script>\n",
              "    </div>\n",
              "  </div>\n",
              "  "
            ]
          },
          "metadata": {},
          "execution_count": 39
        }
      ]
    },
    {
      "cell_type": "markdown",
      "source": [
        "Calculando novamente a porcentagem de nulos:"
      ],
      "metadata": {
        "id": "OW1QtyKW4dWJ"
      }
    },
    {
      "cell_type": "code",
      "source": [
        "#Calcula o número de valores nulos em cada coluna\n",
        "num_nulos = df_treino.isna().sum()\n",
        "#Filtro - aparecer apenas colunas com nulos\n",
        "num_nulos = num_nulos[num_nulos > 0]\n",
        "\n",
        "#Calcula o percentual de nulos em cada coluna\n",
        "num_linhas = df_treino.shape[0]\n",
        "perc_nulos = num_nulos.apply(lambda x:(x/num_linhas)*100)\n",
        "decrescente_perc_nulos = pd.Series(perc_nulos).sort_values(ascending=False)\n",
        "decrescente_perc_nulos\n",
        "\n",
        "#retorno vazio"
      ],
      "metadata": {
        "colab": {
          "base_uri": "https://localhost:8080/"
        },
        "id": "yxTP3xSC4hZ1",
        "outputId": "0385fc70-e234-4af6-b0d8-f93a899e99e8"
      },
      "execution_count": 40,
      "outputs": [
        {
          "output_type": "execute_result",
          "data": {
            "text/plain": [
              "Series([], dtype: int64)"
            ]
          },
          "metadata": {},
          "execution_count": 40
        }
      ]
    },
    {
      "cell_type": "code",
      "source": [
        "df_treino.head()"
      ],
      "metadata": {
        "colab": {
          "base_uri": "https://localhost:8080/",
          "height": 0
        },
        "id": "B0YsJXp71juJ",
        "outputId": "8ba4743f-2545-4724-836b-07582bd0fc8e"
      },
      "execution_count": 41,
      "outputs": [
        {
          "output_type": "execute_result",
          "data": {
            "text/plain": [
              "   produto_solicitado  dia_vencimento forma_envio_solicitacao  tipo_endereco  \\\n",
              "0                   1              10              presencial              1   \n",
              "1                   1              25                internet              1   \n",
              "2                   1              20                internet              1   \n",
              "3                   1              20                internet              1   \n",
              "4                   7               1                internet              1   \n",
              "\n",
              "  sexo  idade  estado_civil  qtde_dependentes  nacionalidade  \\\n",
              "0    M     85             2                 0              1   \n",
              "1    F     38             1                 0              1   \n",
              "2    F     37             2                 0              1   \n",
              "3    M     37             1                 1              1   \n",
              "4    F     51             1                 3              1   \n",
              "\n",
              "  possui_telefone_residencial  ...  qtde_contas_bancarias  \\\n",
              "0                           Y  ...                      1   \n",
              "1                           Y  ...                      0   \n",
              "2                           Y  ...                      0   \n",
              "3                           Y  ...                      0   \n",
              "4                           Y  ...                      0   \n",
              "\n",
              "   qtde_contas_bancarias_especiais  valor_patrimonio_pessoal  \\\n",
              "0                                1                       0.0   \n",
              "1                                0                       0.0   \n",
              "2                                0                       0.0   \n",
              "3                                0                       0.0   \n",
              "4                                0                       0.0   \n",
              "\n",
              "   vinculo_formal_com_empresa  possui_telefone_trabalho  profissao  ocupacao  \\\n",
              "0                           N                         N        9.0       1.0   \n",
              "1                           N                         N        2.0       5.0   \n",
              "2                           N                         N        8.0       3.0   \n",
              "3                           Y                         Y        9.0       2.0   \n",
              "4                           Y                         N        9.0       5.0   \n",
              "\n",
              "   local_onde_reside  local_onde_trabalha  inadimplente  \n",
              "0              600.0                600.0             0  \n",
              "1              492.0                492.0             0  \n",
              "2              450.0                450.0             1  \n",
              "3              932.0                932.0             1  \n",
              "4              440.0                440.0             1  \n",
              "\n",
              "[5 rows x 30 columns]"
            ],
            "text/html": [
              "\n",
              "  <div id=\"df-af8ed537-8fff-4f41-9af3-7f3292aa2d66\">\n",
              "    <div class=\"colab-df-container\">\n",
              "      <div>\n",
              "<style scoped>\n",
              "    .dataframe tbody tr th:only-of-type {\n",
              "        vertical-align: middle;\n",
              "    }\n",
              "\n",
              "    .dataframe tbody tr th {\n",
              "        vertical-align: top;\n",
              "    }\n",
              "\n",
              "    .dataframe thead th {\n",
              "        text-align: right;\n",
              "    }\n",
              "</style>\n",
              "<table border=\"1\" class=\"dataframe\">\n",
              "  <thead>\n",
              "    <tr style=\"text-align: right;\">\n",
              "      <th></th>\n",
              "      <th>produto_solicitado</th>\n",
              "      <th>dia_vencimento</th>\n",
              "      <th>forma_envio_solicitacao</th>\n",
              "      <th>tipo_endereco</th>\n",
              "      <th>sexo</th>\n",
              "      <th>idade</th>\n",
              "      <th>estado_civil</th>\n",
              "      <th>qtde_dependentes</th>\n",
              "      <th>nacionalidade</th>\n",
              "      <th>possui_telefone_residencial</th>\n",
              "      <th>...</th>\n",
              "      <th>qtde_contas_bancarias</th>\n",
              "      <th>qtde_contas_bancarias_especiais</th>\n",
              "      <th>valor_patrimonio_pessoal</th>\n",
              "      <th>vinculo_formal_com_empresa</th>\n",
              "      <th>possui_telefone_trabalho</th>\n",
              "      <th>profissao</th>\n",
              "      <th>ocupacao</th>\n",
              "      <th>local_onde_reside</th>\n",
              "      <th>local_onde_trabalha</th>\n",
              "      <th>inadimplente</th>\n",
              "    </tr>\n",
              "  </thead>\n",
              "  <tbody>\n",
              "    <tr>\n",
              "      <th>0</th>\n",
              "      <td>1</td>\n",
              "      <td>10</td>\n",
              "      <td>presencial</td>\n",
              "      <td>1</td>\n",
              "      <td>M</td>\n",
              "      <td>85</td>\n",
              "      <td>2</td>\n",
              "      <td>0</td>\n",
              "      <td>1</td>\n",
              "      <td>Y</td>\n",
              "      <td>...</td>\n",
              "      <td>1</td>\n",
              "      <td>1</td>\n",
              "      <td>0.0</td>\n",
              "      <td>N</td>\n",
              "      <td>N</td>\n",
              "      <td>9.0</td>\n",
              "      <td>1.0</td>\n",
              "      <td>600.0</td>\n",
              "      <td>600.0</td>\n",
              "      <td>0</td>\n",
              "    </tr>\n",
              "    <tr>\n",
              "      <th>1</th>\n",
              "      <td>1</td>\n",
              "      <td>25</td>\n",
              "      <td>internet</td>\n",
              "      <td>1</td>\n",
              "      <td>F</td>\n",
              "      <td>38</td>\n",
              "      <td>1</td>\n",
              "      <td>0</td>\n",
              "      <td>1</td>\n",
              "      <td>Y</td>\n",
              "      <td>...</td>\n",
              "      <td>0</td>\n",
              "      <td>0</td>\n",
              "      <td>0.0</td>\n",
              "      <td>N</td>\n",
              "      <td>N</td>\n",
              "      <td>2.0</td>\n",
              "      <td>5.0</td>\n",
              "      <td>492.0</td>\n",
              "      <td>492.0</td>\n",
              "      <td>0</td>\n",
              "    </tr>\n",
              "    <tr>\n",
              "      <th>2</th>\n",
              "      <td>1</td>\n",
              "      <td>20</td>\n",
              "      <td>internet</td>\n",
              "      <td>1</td>\n",
              "      <td>F</td>\n",
              "      <td>37</td>\n",
              "      <td>2</td>\n",
              "      <td>0</td>\n",
              "      <td>1</td>\n",
              "      <td>Y</td>\n",
              "      <td>...</td>\n",
              "      <td>0</td>\n",
              "      <td>0</td>\n",
              "      <td>0.0</td>\n",
              "      <td>N</td>\n",
              "      <td>N</td>\n",
              "      <td>8.0</td>\n",
              "      <td>3.0</td>\n",
              "      <td>450.0</td>\n",
              "      <td>450.0</td>\n",
              "      <td>1</td>\n",
              "    </tr>\n",
              "    <tr>\n",
              "      <th>3</th>\n",
              "      <td>1</td>\n",
              "      <td>20</td>\n",
              "      <td>internet</td>\n",
              "      <td>1</td>\n",
              "      <td>M</td>\n",
              "      <td>37</td>\n",
              "      <td>1</td>\n",
              "      <td>1</td>\n",
              "      <td>1</td>\n",
              "      <td>Y</td>\n",
              "      <td>...</td>\n",
              "      <td>0</td>\n",
              "      <td>0</td>\n",
              "      <td>0.0</td>\n",
              "      <td>Y</td>\n",
              "      <td>Y</td>\n",
              "      <td>9.0</td>\n",
              "      <td>2.0</td>\n",
              "      <td>932.0</td>\n",
              "      <td>932.0</td>\n",
              "      <td>1</td>\n",
              "    </tr>\n",
              "    <tr>\n",
              "      <th>4</th>\n",
              "      <td>7</td>\n",
              "      <td>1</td>\n",
              "      <td>internet</td>\n",
              "      <td>1</td>\n",
              "      <td>F</td>\n",
              "      <td>51</td>\n",
              "      <td>1</td>\n",
              "      <td>3</td>\n",
              "      <td>1</td>\n",
              "      <td>Y</td>\n",
              "      <td>...</td>\n",
              "      <td>0</td>\n",
              "      <td>0</td>\n",
              "      <td>0.0</td>\n",
              "      <td>Y</td>\n",
              "      <td>N</td>\n",
              "      <td>9.0</td>\n",
              "      <td>5.0</td>\n",
              "      <td>440.0</td>\n",
              "      <td>440.0</td>\n",
              "      <td>1</td>\n",
              "    </tr>\n",
              "  </tbody>\n",
              "</table>\n",
              "<p>5 rows × 30 columns</p>\n",
              "</div>\n",
              "      <button class=\"colab-df-convert\" onclick=\"convertToInteractive('df-af8ed537-8fff-4f41-9af3-7f3292aa2d66')\"\n",
              "              title=\"Convert this dataframe to an interactive table.\"\n",
              "              style=\"display:none;\">\n",
              "        \n",
              "  <svg xmlns=\"http://www.w3.org/2000/svg\" height=\"24px\"viewBox=\"0 0 24 24\"\n",
              "       width=\"24px\">\n",
              "    <path d=\"M0 0h24v24H0V0z\" fill=\"none\"/>\n",
              "    <path d=\"M18.56 5.44l.94 2.06.94-2.06 2.06-.94-2.06-.94-.94-2.06-.94 2.06-2.06.94zm-11 1L8.5 8.5l.94-2.06 2.06-.94-2.06-.94L8.5 2.5l-.94 2.06-2.06.94zm10 10l.94 2.06.94-2.06 2.06-.94-2.06-.94-.94-2.06-.94 2.06-2.06.94z\"/><path d=\"M17.41 7.96l-1.37-1.37c-.4-.4-.92-.59-1.43-.59-.52 0-1.04.2-1.43.59L10.3 9.45l-7.72 7.72c-.78.78-.78 2.05 0 2.83L4 21.41c.39.39.9.59 1.41.59.51 0 1.02-.2 1.41-.59l7.78-7.78 2.81-2.81c.8-.78.8-2.07 0-2.86zM5.41 20L4 18.59l7.72-7.72 1.47 1.35L5.41 20z\"/>\n",
              "  </svg>\n",
              "      </button>\n",
              "      \n",
              "  <style>\n",
              "    .colab-df-container {\n",
              "      display:flex;\n",
              "      flex-wrap:wrap;\n",
              "      gap: 12px;\n",
              "    }\n",
              "\n",
              "    .colab-df-convert {\n",
              "      background-color: #E8F0FE;\n",
              "      border: none;\n",
              "      border-radius: 50%;\n",
              "      cursor: pointer;\n",
              "      display: none;\n",
              "      fill: #1967D2;\n",
              "      height: 32px;\n",
              "      padding: 0 0 0 0;\n",
              "      width: 32px;\n",
              "    }\n",
              "\n",
              "    .colab-df-convert:hover {\n",
              "      background-color: #E2EBFA;\n",
              "      box-shadow: 0px 1px 2px rgba(60, 64, 67, 0.3), 0px 1px 3px 1px rgba(60, 64, 67, 0.15);\n",
              "      fill: #174EA6;\n",
              "    }\n",
              "\n",
              "    [theme=dark] .colab-df-convert {\n",
              "      background-color: #3B4455;\n",
              "      fill: #D2E3FC;\n",
              "    }\n",
              "\n",
              "    [theme=dark] .colab-df-convert:hover {\n",
              "      background-color: #434B5C;\n",
              "      box-shadow: 0px 1px 3px 1px rgba(0, 0, 0, 0.15);\n",
              "      filter: drop-shadow(0px 1px 2px rgba(0, 0, 0, 0.3));\n",
              "      fill: #FFFFFF;\n",
              "    }\n",
              "  </style>\n",
              "\n",
              "      <script>\n",
              "        const buttonEl =\n",
              "          document.querySelector('#df-af8ed537-8fff-4f41-9af3-7f3292aa2d66 button.colab-df-convert');\n",
              "        buttonEl.style.display =\n",
              "          google.colab.kernel.accessAllowed ? 'block' : 'none';\n",
              "\n",
              "        async function convertToInteractive(key) {\n",
              "          const element = document.querySelector('#df-af8ed537-8fff-4f41-9af3-7f3292aa2d66');\n",
              "          const dataTable =\n",
              "            await google.colab.kernel.invokeFunction('convertToInteractive',\n",
              "                                                     [key], {});\n",
              "          if (!dataTable) return;\n",
              "\n",
              "          const docLinkHtml = 'Like what you see? Visit the ' +\n",
              "            '<a target=\"_blank\" href=https://colab.research.google.com/notebooks/data_table.ipynb>data table notebook</a>'\n",
              "            + ' to learn more about interactive tables.';\n",
              "          element.innerHTML = '';\n",
              "          dataTable['output_type'] = 'display_data';\n",
              "          await google.colab.output.renderOutput(dataTable, element);\n",
              "          const docLink = document.createElement('div');\n",
              "          docLink.innerHTML = docLinkHtml;\n",
              "          element.appendChild(docLink);\n",
              "        }\n",
              "      </script>\n",
              "    </div>\n",
              "  </div>\n",
              "  "
            ]
          },
          "metadata": {},
          "execution_count": 41
        }
      ]
    },
    {
      "cell_type": "markdown",
      "source": [
        "###Tratamento das Variáveis Categóricas"
      ],
      "metadata": {
        "id": "caSJk882WyM9"
      }
    },
    {
      "cell_type": "code",
      "source": [
        "#Printando as colunas até agora:\n",
        "print(df_treino.head(3).T)"
      ],
      "metadata": {
        "colab": {
          "base_uri": "https://localhost:8080/"
        },
        "id": "wa5LJBy9RKPi",
        "outputId": "5a491ec3-ec70-4862-9114-afc24c0ab3dc"
      },
      "execution_count": null,
      "outputs": [
        {
          "output_type": "stream",
          "name": "stdout",
          "text": [
            "                                          0         1         2\n",
            "produto_solicitado                        1         1         1\n",
            "dia_vencimento                           10        25        20\n",
            "forma_envio_solicitacao          presencial  internet  internet\n",
            "tipo_endereco                             1         1         1\n",
            "sexo                                      M         F         F\n",
            "idade                                    85        38        37\n",
            "estado_civil                              2         1         2\n",
            "qtde_dependentes                          0         0         0\n",
            "nacionalidade                             1         1         1\n",
            "possui_telefone_residencial               Y         Y         Y\n",
            "tipo_residencia                         1.0       1.0       5.0\n",
            "meses_na_residencia                    12.0       5.0       1.0\n",
            "possui_email                              0         1         1\n",
            "renda_mensal_regular                  480.0     380.0     600.0\n",
            "renda_extra                             0.0       0.0       0.0\n",
            "possui_cartao_visa                        0         0         0\n",
            "possui_cartao_mastercard                  0         0         0\n",
            "possui_cartao_diners                      0         0         0\n",
            "possui_cartao_amex                        0         0         0\n",
            "possui_outros_cartoes                     0         0         0\n",
            "qtde_contas_bancarias                     1         0         0\n",
            "qtde_contas_bancarias_especiais           1         0         0\n",
            "valor_patrimonio_pessoal                0.0       0.0       0.0\n",
            "vinculo_formal_com_empresa                N         N         N\n",
            "possui_telefone_trabalho                  N         N         N\n",
            "profissao                               9.0       2.0       8.0\n",
            "ocupacao                                1.0       5.0       3.0\n",
            "local_onde_reside                     600.0     492.0     450.0\n",
            "local_onde_trabalha                   600.0     492.0     450.0\n",
            "inadimplente                              0         0         1\n"
          ]
        }
      ]
    },
    {
      "cell_type": "code",
      "source": [
        "#Aplicando one-hot encoding nas variáveis \"sexo\" e \"forma_envio_solicitacao\":\n",
        "df_treino = pd.get_dummies(df_treino, columns=[\"sexo\", \"forma_envio_solicitacao\"])\n",
        "print(df_treino.head(3).T)"
      ],
      "metadata": {
        "colab": {
          "base_uri": "https://localhost:8080/"
        },
        "id": "lE9ognuLTPPw",
        "outputId": "76792639-8f7b-4600-ed77-2837a2615676"
      },
      "execution_count": 42,
      "outputs": [
        {
          "output_type": "stream",
          "name": "stdout",
          "text": [
            "                                        0      1      2\n",
            "produto_solicitado                      1      1      1\n",
            "dia_vencimento                         10     25     20\n",
            "tipo_endereco                           1      1      1\n",
            "idade                                  85     38     37\n",
            "estado_civil                            2      1      2\n",
            "qtde_dependentes                        0      0      0\n",
            "nacionalidade                           1      1      1\n",
            "possui_telefone_residencial             Y      Y      Y\n",
            "tipo_residencia                       1.0    1.0    5.0\n",
            "meses_na_residencia                  12.0    5.0    1.0\n",
            "possui_email                            0      1      1\n",
            "renda_mensal_regular                480.0  380.0  600.0\n",
            "renda_extra                           0.0    0.0    0.0\n",
            "possui_cartao_visa                      0      0      0\n",
            "possui_cartao_mastercard                0      0      0\n",
            "possui_cartao_diners                    0      0      0\n",
            "possui_cartao_amex                      0      0      0\n",
            "possui_outros_cartoes                   0      0      0\n",
            "qtde_contas_bancarias                   1      0      0\n",
            "qtde_contas_bancarias_especiais         1      0      0\n",
            "valor_patrimonio_pessoal              0.0    0.0    0.0\n",
            "vinculo_formal_com_empresa              N      N      N\n",
            "possui_telefone_trabalho                N      N      N\n",
            "profissao                             9.0    2.0    8.0\n",
            "ocupacao                              1.0    5.0    3.0\n",
            "local_onde_reside                   600.0  492.0  450.0\n",
            "local_onde_trabalha                 600.0  492.0  450.0\n",
            "inadimplente                            0      0      1\n",
            "sexo_F                                  0      1      1\n",
            "sexo_M                                  1      0      0\n",
            "sexo_N                                  0      0      0\n",
            "forma_envio_solicitacao_correio         0      0      0\n",
            "forma_envio_solicitacao_internet        0      1      1\n",
            "forma_envio_solicitacao_presencial      1      0      0\n"
          ]
        }
      ]
    },
    {
      "cell_type": "code",
      "source": [
        "#Aplicando a binarização:\n",
        "binarizador = LabelBinarizer()\n",
        "\n",
        "for v in [\"possui_telefone_residencial\", \"vinculo_formal_com_empresa\", \"possui_telefone_trabalho\"]:\n",
        "  df_treino[v] = binarizador.fit_transform(df_treino[v])\n",
        "\n",
        "print(df_treino.head(3).T)"
      ],
      "metadata": {
        "colab": {
          "base_uri": "https://localhost:8080/"
        },
        "id": "N5E32j4dTgZF",
        "outputId": "e26ab10d-e417-4787-aad2-5c262491cc83"
      },
      "execution_count": 43,
      "outputs": [
        {
          "output_type": "stream",
          "name": "stdout",
          "text": [
            "                                        0      1      2\n",
            "produto_solicitado                    1.0    1.0    1.0\n",
            "dia_vencimento                       10.0   25.0   20.0\n",
            "tipo_endereco                         1.0    1.0    1.0\n",
            "idade                                85.0   38.0   37.0\n",
            "estado_civil                          2.0    1.0    2.0\n",
            "qtde_dependentes                      0.0    0.0    0.0\n",
            "nacionalidade                         1.0    1.0    1.0\n",
            "possui_telefone_residencial           1.0    1.0    1.0\n",
            "tipo_residencia                       1.0    1.0    5.0\n",
            "meses_na_residencia                  12.0    5.0    1.0\n",
            "possui_email                          0.0    1.0    1.0\n",
            "renda_mensal_regular                480.0  380.0  600.0\n",
            "renda_extra                           0.0    0.0    0.0\n",
            "possui_cartao_visa                    0.0    0.0    0.0\n",
            "possui_cartao_mastercard              0.0    0.0    0.0\n",
            "possui_cartao_diners                  0.0    0.0    0.0\n",
            "possui_cartao_amex                    0.0    0.0    0.0\n",
            "possui_outros_cartoes                 0.0    0.0    0.0\n",
            "qtde_contas_bancarias                 1.0    0.0    0.0\n",
            "qtde_contas_bancarias_especiais       1.0    0.0    0.0\n",
            "valor_patrimonio_pessoal              0.0    0.0    0.0\n",
            "vinculo_formal_com_empresa            0.0    0.0    0.0\n",
            "possui_telefone_trabalho              0.0    0.0    0.0\n",
            "profissao                             9.0    2.0    8.0\n",
            "ocupacao                              1.0    5.0    3.0\n",
            "local_onde_reside                   600.0  492.0  450.0\n",
            "local_onde_trabalha                 600.0  492.0  450.0\n",
            "inadimplente                          0.0    0.0    1.0\n",
            "sexo_F                                0.0    1.0    1.0\n",
            "sexo_M                                1.0    0.0    0.0\n",
            "sexo_N                                0.0    0.0    0.0\n",
            "forma_envio_solicitacao_correio       0.0    0.0    0.0\n",
            "forma_envio_solicitacao_internet      0.0    1.0    1.0\n",
            "forma_envio_solicitacao_presencial    1.0    0.0    0.0\n"
          ]
        }
      ]
    },
    {
      "cell_type": "markdown",
      "source": [
        "####Verificando o tipo de todas as colunas novamente"
      ],
      "metadata": {
        "id": "7PAZcTxujnfA"
      }
    },
    {
      "cell_type": "code",
      "source": [
        "df_treino.dtypes"
      ],
      "metadata": {
        "id": "rM6wB2RMjrL7"
      },
      "execution_count": null,
      "outputs": []
    },
    {
      "cell_type": "markdown",
      "source": [
        "##Análise Exploratória"
      ],
      "metadata": {
        "id": "sGTA33BIVi_i"
      }
    },
    {
      "cell_type": "markdown",
      "source": [
        "###Atributo \"Inadimplentes\" VS outros atributos"
      ],
      "metadata": {
        "id": "KlqhVlF0VWe9"
      }
    },
    {
      "cell_type": "code",
      "source": [
        "#Verificando a quantidade de inadimplentes (1) ou bom pagador (0)\n",
        "df_treino[\"inadimplente\"].value_counts()"
      ],
      "metadata": {
        "id": "nvcoDX-VVnNM"
      },
      "execution_count": null,
      "outputs": []
    },
    {
      "cell_type": "code",
      "source": [
        "#Verificando a relação entre Inadimplente e outros atributos\n",
        "grupo = df_treino.groupby([\"inadimplente\"]).mean()\n",
        "grupo.T"
      ],
      "metadata": {
        "id": "GJFw9AD-V9sG"
      },
      "execution_count": null,
      "outputs": []
    },
    {
      "cell_type": "code",
      "source": [
        "#Identificando quais atributos tem Média com maior diferença entre Bom Pagador e Inadimplente\n",
        "listaAtributos = grupo.columns.values.tolist()\n",
        "dictImpacto = {}\n",
        "\n",
        "for v in range(0, len(listaAtributos)):\n",
        "  dictImpacto[listaAtributos[v]] = abs(grupo.T[0][v] - grupo.T[1][v])/((grupo.T[0][v] + grupo.T[1][v])/2)\n",
        "\n",
        "dictImpacto_ordenado = sorted(dictImpacto.items(), key=lambda x: x[1], reverse=True)\n",
        "print(dictImpacto_ordenado)"
      ],
      "metadata": {
        "id": "AMhnvcPJZB75"
      },
      "execution_count": null,
      "outputs": []
    },
    {
      "cell_type": "markdown",
      "source": [
        "###Plotar diagrama de dispersão"
      ],
      "metadata": {
        "id": "geALJGy3Xt08"
      }
    },
    {
      "cell_type": "code",
      "source": [
        "atr1 = \"idade\"\n",
        "atr2 = \"renda_extra\"\n",
        "\n",
        "#Inadimplente = vermelho e Bom pagador = azul\n",
        "cores = [ 'red' if x else 'blue' for x in df_treino['inadimplente'] ]\n",
        "\n",
        "grafico = df_treino.plot.scatter(\n",
        "    atr1,\n",
        "    atr2,\n",
        "    c = cores,\n",
        "    s = 5,\n",
        "    alpha = 0.5,\n",
        "    figsize = (10,10)\n",
        ")\n",
        "\n",
        "plt.show()"
      ],
      "metadata": {
        "id": "5UNEh_s_XxmJ"
      },
      "execution_count": null,
      "outputs": []
    },
    {
      "cell_type": "markdown",
      "source": [
        "Retirando a linha que possui o outlier de renda_extra do gráfico de dispersão:"
      ],
      "metadata": {
        "id": "BgoE3ku7YFtV"
      }
    },
    {
      "cell_type": "code",
      "source": [
        "#Novo dataset criado sem o outlier, apenas para melhorar a visualização do gráfico de dispersão\n",
        "df_dispersao = df_treino[df_treino.renda_extra != df_treino['renda_extra'].max()]\n",
        "#print(df_dispersao[\"renda_extra\"].describe())"
      ],
      "metadata": {
        "id": "ylTYsMQVYFgV"
      },
      "execution_count": null,
      "outputs": []
    },
    {
      "cell_type": "code",
      "source": [
        "atr1 = \"idade\"\n",
        "atr2 = \"renda_extra\"\n",
        "\n",
        "#Inadimplente = vermelho e Bom pagador = azul\n",
        "cores = [ 'red' if x else 'blue' for x in df_dispersao['inadimplente'] ]\n",
        "\n",
        "grafico = df_dispersao.plot.scatter(\n",
        "    atr1,\n",
        "    atr2,\n",
        "    c = cores,\n",
        "    s = 10,\n",
        "    alpha = 0.5,\n",
        "    figsize = (15,10)\n",
        ")"
      ],
      "metadata": {
        "id": "wa8pg-rZaLxx"
      },
      "execution_count": null,
      "outputs": []
    },
    {
      "cell_type": "markdown",
      "source": [
        "##Classificação"
      ],
      "metadata": {
        "id": "a1NZZ2OzkVXp"
      }
    },
    {
      "cell_type": "markdown",
      "source": [
        "###Tratamento - Dataset Testes"
      ],
      "metadata": {
        "id": "D3arrGs1ACmH"
      }
    },
    {
      "cell_type": "code",
      "source": [
        "#Decisão feita com base no dicionário de dados fornecido no Kaggle e a Matriz de Correlação acima.\n",
        "#del df_teste[\"id_solicitante\"] #Dicionário\n",
        "del df_teste[\"possui_telefone_celular\"] #Apenas valor N\n",
        "del df_teste[\"possui_carro\"] #Matriz de Correlação\n",
        "del df_teste[\"grau_instrucao\"] #Coluna totalmente vazia\n",
        "del df_teste[\"meses_no_trabalho\"] #Grande maioria da coluna vazia\n",
        "\n",
        "#Remoção baseada na cardinalidade das variáveis categóricas\n",
        "del df_teste[\"estado_onde_nasceu\"]\n",
        "del df_teste[\"estado_onde_reside\"]\n",
        "del df_teste[\"codigo_area_telefone_residencial\"]\n",
        "del df_teste[\"estado_onde_trabalha\"]\n",
        "del df_teste[\"codigo_area_telefone_trabalho\"]\n",
        "\n",
        "#Recalculando o a porcentagem de nulos\n",
        "df_teste = df_teste.replace(\" \", np.nan)\n",
        "num_nulos = df_teste.isna().sum()\n",
        "num_nulos = num_nulos[num_nulos > 0]\n",
        "num_linhas = df_teste.shape[0]\n",
        "perc_nulos = num_nulos.apply(lambda x:(x/num_linhas)*100)\n",
        "decrescente_perc_nulos = pd.Series(perc_nulos).sort_values(ascending=False)\n",
        "decrescente_perc_nulos\n",
        "\n",
        "for p in decrescente_perc_nulos:\n",
        "  if p >= 50:\n",
        "    del df_teste[decrescente_perc_nulos[decrescente_perc_nulos == p].index[0]]\n",
        "\n",
        "for p in decrescente_perc_nulos:\n",
        "  if p < 50:\n",
        "    atributo = decrescente_perc_nulos[decrescente_perc_nulos == p].index[0]\n",
        "\n",
        "#Preenchimento dos campos nulos em \"sexo\" por \"N\":\n",
        "df_teste[[\"sexo\"]] = df_teste[[\"sexo\"]].fillna(value=\"N\")\n",
        "\n",
        "#Preenchimento dos campos nulos em \"profissao\", \"ocupacao\", \"meses_na_residencia\" e \"tipo_residencia\" pela média respectiva.\n",
        "for p in decrescente_perc_nulos:\n",
        "  atributo = decrescente_perc_nulos[decrescente_perc_nulos == p].index[0]\n",
        "  if p < 50 and atributo != \"sexo\":\n",
        "    df_teste[[atributo]] = df_teste[[atributo]].fillna(value=df_teste[[atributo]].mean().round())\n",
        "\n",
        "#Aplicando one-hot encoding nas variáveis \"sexo\" e \"forma_envio_solicitacao\":\n",
        "df_teste = pd.get_dummies(df_teste, columns=[\"sexo\", \"forma_envio_solicitacao\"])\n",
        "\n",
        "#Aplicando a binarização:\n",
        "binarizador = LabelBinarizer()\n",
        "for v in [\"possui_telefone_residencial\", \"vinculo_formal_com_empresa\", \"possui_telefone_trabalho\"]:\n",
        "  df_teste[v] = binarizador.fit_transform(df_teste[v])\n",
        "\n",
        "\n",
        "#Criando uma coluna Inadimplentes no dataset de teste\n",
        "df_teste[\"inadimplente\"] = np.nan"
      ],
      "metadata": {
        "id": "DtHSSZ1KAIaW"
      },
      "execution_count": 44,
      "outputs": []
    },
    {
      "cell_type": "code",
      "source": [
        "df_teste.head().T"
      ],
      "metadata": {
        "id": "371iIr9QDN8s",
        "colab": {
          "base_uri": "https://localhost:8080/",
          "height": 0
        },
        "outputId": "d695aca5-c818-4101-d07b-8567911bba04"
      },
      "execution_count": 45,
      "outputs": [
        {
          "output_type": "execute_result",
          "data": {
            "text/plain": [
              "                                          0         1        2        3  \\\n",
              "id_solicitante                      20001.0  20002.00  20003.0  20004.0   \n",
              "produto_solicitado                      1.0      1.00      1.0      1.0   \n",
              "dia_vencimento                         25.0     10.00     10.0     10.0   \n",
              "tipo_endereco                           1.0      1.00      1.0      1.0   \n",
              "idade                                  37.0     31.00     18.0     55.0   \n",
              "estado_civil                            2.0      2.00      2.0      2.0   \n",
              "qtde_dependentes                        0.0      0.00      0.0      0.0   \n",
              "nacionalidade                           1.0      1.00      1.0      1.0   \n",
              "possui_telefone_residencial             1.0      1.00      1.0      1.0   \n",
              "tipo_residencia                         1.0      1.00      1.0      1.0   \n",
              "meses_na_residencia                     5.0      1.00     12.0     25.0   \n",
              "possui_email                            0.0      1.00      1.0      1.0   \n",
              "renda_mensal_regular                 1800.0    424.88    400.0   1400.0   \n",
              "renda_extra                             0.0      0.00      0.0      0.0   \n",
              "possui_cartao_visa                      0.0      0.00      0.0      0.0   \n",
              "possui_cartao_mastercard                0.0      0.00      0.0      0.0   \n",
              "possui_cartao_diners                    0.0      0.00      0.0      0.0   \n",
              "possui_cartao_amex                      0.0      0.00      0.0      0.0   \n",
              "possui_outros_cartoes                   0.0      0.00      0.0      0.0   \n",
              "qtde_contas_bancarias                   1.0      0.00      0.0      1.0   \n",
              "qtde_contas_bancarias_especiais         1.0      0.00      0.0      1.0   \n",
              "valor_patrimonio_pessoal                0.0      0.00      0.0      0.0   \n",
              "vinculo_formal_com_empresa              0.0      1.00      1.0      0.0   \n",
              "possui_telefone_trabalho                0.0      0.00      0.0      0.0   \n",
              "profissao                               0.0      9.00      9.0      9.0   \n",
              "ocupacao                                0.0      5.00      2.0      1.0   \n",
              "local_onde_reside                     384.0    275.00    948.0    581.0   \n",
              "local_onde_trabalha                   384.0    275.00    948.0    581.0   \n",
              "sexo_F                                  0.0      1.00      1.0      1.0   \n",
              "sexo_M                                  1.0      0.00      0.0      0.0   \n",
              "sexo_N                                  0.0      0.00      0.0      0.0   \n",
              "forma_envio_solicitacao_correio         0.0      0.00      0.0      0.0   \n",
              "forma_envio_solicitacao_internet        0.0      1.00      1.0      0.0   \n",
              "forma_envio_solicitacao_presencial      1.0      0.00      0.0      1.0   \n",
              "inadimplente                            NaN       NaN      NaN      NaN   \n",
              "\n",
              "                                          4  \n",
              "id_solicitante                      20005.0  \n",
              "produto_solicitado                      1.0  \n",
              "dia_vencimento                         10.0  \n",
              "tipo_endereco                           1.0  \n",
              "idade                                  55.0  \n",
              "estado_civil                            1.0  \n",
              "qtde_dependentes                        0.0  \n",
              "nacionalidade                           1.0  \n",
              "possui_telefone_residencial             1.0  \n",
              "tipo_residencia                         1.0  \n",
              "meses_na_residencia                    11.0  \n",
              "possui_email                            0.0  \n",
              "renda_mensal_regular                  350.0  \n",
              "renda_extra                             0.0  \n",
              "possui_cartao_visa                      0.0  \n",
              "possui_cartao_mastercard                0.0  \n",
              "possui_cartao_diners                    0.0  \n",
              "possui_cartao_amex                      0.0  \n",
              "possui_outros_cartoes                   0.0  \n",
              "qtde_contas_bancarias                   1.0  \n",
              "qtde_contas_bancarias_especiais         1.0  \n",
              "valor_patrimonio_pessoal                0.0  \n",
              "vinculo_formal_com_empresa              0.0  \n",
              "possui_telefone_trabalho                0.0  \n",
              "profissao                               0.0  \n",
              "ocupacao                                1.0  \n",
              "local_onde_reside                     573.0  \n",
              "local_onde_trabalha                   573.0  \n",
              "sexo_F                                  1.0  \n",
              "sexo_M                                  0.0  \n",
              "sexo_N                                  0.0  \n",
              "forma_envio_solicitacao_correio         0.0  \n",
              "forma_envio_solicitacao_internet        0.0  \n",
              "forma_envio_solicitacao_presencial      1.0  \n",
              "inadimplente                            NaN  "
            ],
            "text/html": [
              "\n",
              "  <div id=\"df-b0ae2343-6414-408f-991c-a85a3fbde1a0\">\n",
              "    <div class=\"colab-df-container\">\n",
              "      <div>\n",
              "<style scoped>\n",
              "    .dataframe tbody tr th:only-of-type {\n",
              "        vertical-align: middle;\n",
              "    }\n",
              "\n",
              "    .dataframe tbody tr th {\n",
              "        vertical-align: top;\n",
              "    }\n",
              "\n",
              "    .dataframe thead th {\n",
              "        text-align: right;\n",
              "    }\n",
              "</style>\n",
              "<table border=\"1\" class=\"dataframe\">\n",
              "  <thead>\n",
              "    <tr style=\"text-align: right;\">\n",
              "      <th></th>\n",
              "      <th>0</th>\n",
              "      <th>1</th>\n",
              "      <th>2</th>\n",
              "      <th>3</th>\n",
              "      <th>4</th>\n",
              "    </tr>\n",
              "  </thead>\n",
              "  <tbody>\n",
              "    <tr>\n",
              "      <th>id_solicitante</th>\n",
              "      <td>20001.0</td>\n",
              "      <td>20002.00</td>\n",
              "      <td>20003.0</td>\n",
              "      <td>20004.0</td>\n",
              "      <td>20005.0</td>\n",
              "    </tr>\n",
              "    <tr>\n",
              "      <th>produto_solicitado</th>\n",
              "      <td>1.0</td>\n",
              "      <td>1.00</td>\n",
              "      <td>1.0</td>\n",
              "      <td>1.0</td>\n",
              "      <td>1.0</td>\n",
              "    </tr>\n",
              "    <tr>\n",
              "      <th>dia_vencimento</th>\n",
              "      <td>25.0</td>\n",
              "      <td>10.00</td>\n",
              "      <td>10.0</td>\n",
              "      <td>10.0</td>\n",
              "      <td>10.0</td>\n",
              "    </tr>\n",
              "    <tr>\n",
              "      <th>tipo_endereco</th>\n",
              "      <td>1.0</td>\n",
              "      <td>1.00</td>\n",
              "      <td>1.0</td>\n",
              "      <td>1.0</td>\n",
              "      <td>1.0</td>\n",
              "    </tr>\n",
              "    <tr>\n",
              "      <th>idade</th>\n",
              "      <td>37.0</td>\n",
              "      <td>31.00</td>\n",
              "      <td>18.0</td>\n",
              "      <td>55.0</td>\n",
              "      <td>55.0</td>\n",
              "    </tr>\n",
              "    <tr>\n",
              "      <th>estado_civil</th>\n",
              "      <td>2.0</td>\n",
              "      <td>2.00</td>\n",
              "      <td>2.0</td>\n",
              "      <td>2.0</td>\n",
              "      <td>1.0</td>\n",
              "    </tr>\n",
              "    <tr>\n",
              "      <th>qtde_dependentes</th>\n",
              "      <td>0.0</td>\n",
              "      <td>0.00</td>\n",
              "      <td>0.0</td>\n",
              "      <td>0.0</td>\n",
              "      <td>0.0</td>\n",
              "    </tr>\n",
              "    <tr>\n",
              "      <th>nacionalidade</th>\n",
              "      <td>1.0</td>\n",
              "      <td>1.00</td>\n",
              "      <td>1.0</td>\n",
              "      <td>1.0</td>\n",
              "      <td>1.0</td>\n",
              "    </tr>\n",
              "    <tr>\n",
              "      <th>possui_telefone_residencial</th>\n",
              "      <td>1.0</td>\n",
              "      <td>1.00</td>\n",
              "      <td>1.0</td>\n",
              "      <td>1.0</td>\n",
              "      <td>1.0</td>\n",
              "    </tr>\n",
              "    <tr>\n",
              "      <th>tipo_residencia</th>\n",
              "      <td>1.0</td>\n",
              "      <td>1.00</td>\n",
              "      <td>1.0</td>\n",
              "      <td>1.0</td>\n",
              "      <td>1.0</td>\n",
              "    </tr>\n",
              "    <tr>\n",
              "      <th>meses_na_residencia</th>\n",
              "      <td>5.0</td>\n",
              "      <td>1.00</td>\n",
              "      <td>12.0</td>\n",
              "      <td>25.0</td>\n",
              "      <td>11.0</td>\n",
              "    </tr>\n",
              "    <tr>\n",
              "      <th>possui_email</th>\n",
              "      <td>0.0</td>\n",
              "      <td>1.00</td>\n",
              "      <td>1.0</td>\n",
              "      <td>1.0</td>\n",
              "      <td>0.0</td>\n",
              "    </tr>\n",
              "    <tr>\n",
              "      <th>renda_mensal_regular</th>\n",
              "      <td>1800.0</td>\n",
              "      <td>424.88</td>\n",
              "      <td>400.0</td>\n",
              "      <td>1400.0</td>\n",
              "      <td>350.0</td>\n",
              "    </tr>\n",
              "    <tr>\n",
              "      <th>renda_extra</th>\n",
              "      <td>0.0</td>\n",
              "      <td>0.00</td>\n",
              "      <td>0.0</td>\n",
              "      <td>0.0</td>\n",
              "      <td>0.0</td>\n",
              "    </tr>\n",
              "    <tr>\n",
              "      <th>possui_cartao_visa</th>\n",
              "      <td>0.0</td>\n",
              "      <td>0.00</td>\n",
              "      <td>0.0</td>\n",
              "      <td>0.0</td>\n",
              "      <td>0.0</td>\n",
              "    </tr>\n",
              "    <tr>\n",
              "      <th>possui_cartao_mastercard</th>\n",
              "      <td>0.0</td>\n",
              "      <td>0.00</td>\n",
              "      <td>0.0</td>\n",
              "      <td>0.0</td>\n",
              "      <td>0.0</td>\n",
              "    </tr>\n",
              "    <tr>\n",
              "      <th>possui_cartao_diners</th>\n",
              "      <td>0.0</td>\n",
              "      <td>0.00</td>\n",
              "      <td>0.0</td>\n",
              "      <td>0.0</td>\n",
              "      <td>0.0</td>\n",
              "    </tr>\n",
              "    <tr>\n",
              "      <th>possui_cartao_amex</th>\n",
              "      <td>0.0</td>\n",
              "      <td>0.00</td>\n",
              "      <td>0.0</td>\n",
              "      <td>0.0</td>\n",
              "      <td>0.0</td>\n",
              "    </tr>\n",
              "    <tr>\n",
              "      <th>possui_outros_cartoes</th>\n",
              "      <td>0.0</td>\n",
              "      <td>0.00</td>\n",
              "      <td>0.0</td>\n",
              "      <td>0.0</td>\n",
              "      <td>0.0</td>\n",
              "    </tr>\n",
              "    <tr>\n",
              "      <th>qtde_contas_bancarias</th>\n",
              "      <td>1.0</td>\n",
              "      <td>0.00</td>\n",
              "      <td>0.0</td>\n",
              "      <td>1.0</td>\n",
              "      <td>1.0</td>\n",
              "    </tr>\n",
              "    <tr>\n",
              "      <th>qtde_contas_bancarias_especiais</th>\n",
              "      <td>1.0</td>\n",
              "      <td>0.00</td>\n",
              "      <td>0.0</td>\n",
              "      <td>1.0</td>\n",
              "      <td>1.0</td>\n",
              "    </tr>\n",
              "    <tr>\n",
              "      <th>valor_patrimonio_pessoal</th>\n",
              "      <td>0.0</td>\n",
              "      <td>0.00</td>\n",
              "      <td>0.0</td>\n",
              "      <td>0.0</td>\n",
              "      <td>0.0</td>\n",
              "    </tr>\n",
              "    <tr>\n",
              "      <th>vinculo_formal_com_empresa</th>\n",
              "      <td>0.0</td>\n",
              "      <td>1.00</td>\n",
              "      <td>1.0</td>\n",
              "      <td>0.0</td>\n",
              "      <td>0.0</td>\n",
              "    </tr>\n",
              "    <tr>\n",
              "      <th>possui_telefone_trabalho</th>\n",
              "      <td>0.0</td>\n",
              "      <td>0.00</td>\n",
              "      <td>0.0</td>\n",
              "      <td>0.0</td>\n",
              "      <td>0.0</td>\n",
              "    </tr>\n",
              "    <tr>\n",
              "      <th>profissao</th>\n",
              "      <td>0.0</td>\n",
              "      <td>9.00</td>\n",
              "      <td>9.0</td>\n",
              "      <td>9.0</td>\n",
              "      <td>0.0</td>\n",
              "    </tr>\n",
              "    <tr>\n",
              "      <th>ocupacao</th>\n",
              "      <td>0.0</td>\n",
              "      <td>5.00</td>\n",
              "      <td>2.0</td>\n",
              "      <td>1.0</td>\n",
              "      <td>1.0</td>\n",
              "    </tr>\n",
              "    <tr>\n",
              "      <th>local_onde_reside</th>\n",
              "      <td>384.0</td>\n",
              "      <td>275.00</td>\n",
              "      <td>948.0</td>\n",
              "      <td>581.0</td>\n",
              "      <td>573.0</td>\n",
              "    </tr>\n",
              "    <tr>\n",
              "      <th>local_onde_trabalha</th>\n",
              "      <td>384.0</td>\n",
              "      <td>275.00</td>\n",
              "      <td>948.0</td>\n",
              "      <td>581.0</td>\n",
              "      <td>573.0</td>\n",
              "    </tr>\n",
              "    <tr>\n",
              "      <th>sexo_F</th>\n",
              "      <td>0.0</td>\n",
              "      <td>1.00</td>\n",
              "      <td>1.0</td>\n",
              "      <td>1.0</td>\n",
              "      <td>1.0</td>\n",
              "    </tr>\n",
              "    <tr>\n",
              "      <th>sexo_M</th>\n",
              "      <td>1.0</td>\n",
              "      <td>0.00</td>\n",
              "      <td>0.0</td>\n",
              "      <td>0.0</td>\n",
              "      <td>0.0</td>\n",
              "    </tr>\n",
              "    <tr>\n",
              "      <th>sexo_N</th>\n",
              "      <td>0.0</td>\n",
              "      <td>0.00</td>\n",
              "      <td>0.0</td>\n",
              "      <td>0.0</td>\n",
              "      <td>0.0</td>\n",
              "    </tr>\n",
              "    <tr>\n",
              "      <th>forma_envio_solicitacao_correio</th>\n",
              "      <td>0.0</td>\n",
              "      <td>0.00</td>\n",
              "      <td>0.0</td>\n",
              "      <td>0.0</td>\n",
              "      <td>0.0</td>\n",
              "    </tr>\n",
              "    <tr>\n",
              "      <th>forma_envio_solicitacao_internet</th>\n",
              "      <td>0.0</td>\n",
              "      <td>1.00</td>\n",
              "      <td>1.0</td>\n",
              "      <td>0.0</td>\n",
              "      <td>0.0</td>\n",
              "    </tr>\n",
              "    <tr>\n",
              "      <th>forma_envio_solicitacao_presencial</th>\n",
              "      <td>1.0</td>\n",
              "      <td>0.00</td>\n",
              "      <td>0.0</td>\n",
              "      <td>1.0</td>\n",
              "      <td>1.0</td>\n",
              "    </tr>\n",
              "    <tr>\n",
              "      <th>inadimplente</th>\n",
              "      <td>NaN</td>\n",
              "      <td>NaN</td>\n",
              "      <td>NaN</td>\n",
              "      <td>NaN</td>\n",
              "      <td>NaN</td>\n",
              "    </tr>\n",
              "  </tbody>\n",
              "</table>\n",
              "</div>\n",
              "      <button class=\"colab-df-convert\" onclick=\"convertToInteractive('df-b0ae2343-6414-408f-991c-a85a3fbde1a0')\"\n",
              "              title=\"Convert this dataframe to an interactive table.\"\n",
              "              style=\"display:none;\">\n",
              "        \n",
              "  <svg xmlns=\"http://www.w3.org/2000/svg\" height=\"24px\"viewBox=\"0 0 24 24\"\n",
              "       width=\"24px\">\n",
              "    <path d=\"M0 0h24v24H0V0z\" fill=\"none\"/>\n",
              "    <path d=\"M18.56 5.44l.94 2.06.94-2.06 2.06-.94-2.06-.94-.94-2.06-.94 2.06-2.06.94zm-11 1L8.5 8.5l.94-2.06 2.06-.94-2.06-.94L8.5 2.5l-.94 2.06-2.06.94zm10 10l.94 2.06.94-2.06 2.06-.94-2.06-.94-.94-2.06-.94 2.06-2.06.94z\"/><path d=\"M17.41 7.96l-1.37-1.37c-.4-.4-.92-.59-1.43-.59-.52 0-1.04.2-1.43.59L10.3 9.45l-7.72 7.72c-.78.78-.78 2.05 0 2.83L4 21.41c.39.39.9.59 1.41.59.51 0 1.02-.2 1.41-.59l7.78-7.78 2.81-2.81c.8-.78.8-2.07 0-2.86zM5.41 20L4 18.59l7.72-7.72 1.47 1.35L5.41 20z\"/>\n",
              "  </svg>\n",
              "      </button>\n",
              "      \n",
              "  <style>\n",
              "    .colab-df-container {\n",
              "      display:flex;\n",
              "      flex-wrap:wrap;\n",
              "      gap: 12px;\n",
              "    }\n",
              "\n",
              "    .colab-df-convert {\n",
              "      background-color: #E8F0FE;\n",
              "      border: none;\n",
              "      border-radius: 50%;\n",
              "      cursor: pointer;\n",
              "      display: none;\n",
              "      fill: #1967D2;\n",
              "      height: 32px;\n",
              "      padding: 0 0 0 0;\n",
              "      width: 32px;\n",
              "    }\n",
              "\n",
              "    .colab-df-convert:hover {\n",
              "      background-color: #E2EBFA;\n",
              "      box-shadow: 0px 1px 2px rgba(60, 64, 67, 0.3), 0px 1px 3px 1px rgba(60, 64, 67, 0.15);\n",
              "      fill: #174EA6;\n",
              "    }\n",
              "\n",
              "    [theme=dark] .colab-df-convert {\n",
              "      background-color: #3B4455;\n",
              "      fill: #D2E3FC;\n",
              "    }\n",
              "\n",
              "    [theme=dark] .colab-df-convert:hover {\n",
              "      background-color: #434B5C;\n",
              "      box-shadow: 0px 1px 3px 1px rgba(0, 0, 0, 0.15);\n",
              "      filter: drop-shadow(0px 1px 2px rgba(0, 0, 0, 0.3));\n",
              "      fill: #FFFFFF;\n",
              "    }\n",
              "  </style>\n",
              "\n",
              "      <script>\n",
              "        const buttonEl =\n",
              "          document.querySelector('#df-b0ae2343-6414-408f-991c-a85a3fbde1a0 button.colab-df-convert');\n",
              "        buttonEl.style.display =\n",
              "          google.colab.kernel.accessAllowed ? 'block' : 'none';\n",
              "\n",
              "        async function convertToInteractive(key) {\n",
              "          const element = document.querySelector('#df-b0ae2343-6414-408f-991c-a85a3fbde1a0');\n",
              "          const dataTable =\n",
              "            await google.colab.kernel.invokeFunction('convertToInteractive',\n",
              "                                                     [key], {});\n",
              "          if (!dataTable) return;\n",
              "\n",
              "          const docLinkHtml = 'Like what you see? Visit the ' +\n",
              "            '<a target=\"_blank\" href=https://colab.research.google.com/notebooks/data_table.ipynb>data table notebook</a>'\n",
              "            + ' to learn more about interactive tables.';\n",
              "          element.innerHTML = '';\n",
              "          dataTable['output_type'] = 'display_data';\n",
              "          await google.colab.output.renderOutput(dataTable, element);\n",
              "          const docLink = document.createElement('div');\n",
              "          docLink.innerHTML = docLinkHtml;\n",
              "          element.appendChild(docLink);\n",
              "        }\n",
              "      </script>\n",
              "    </div>\n",
              "  </div>\n",
              "  "
            ]
          },
          "metadata": {},
          "execution_count": 45
        }
      ]
    },
    {
      "cell_type": "markdown",
      "source": [
        "###Selecionar os atributos que serão usados pelo classificador:"
      ],
      "metadata": {
        "id": "lUt2ExFnkYOU"
      }
    },
    {
      "cell_type": "code",
      "source": [
        "#Lista de Colunas para usar a seguir\n",
        "df_treino.columns"
      ],
      "metadata": {
        "id": "kRF2GXlmm1dT"
      },
      "execution_count": null,
      "outputs": []
    },
    {
      "cell_type": "code",
      "source": [
        "atributos_selecionados = [\n",
        "       'produto_solicitado', \n",
        "       'dia_vencimento', \n",
        "       #'tipo_endereco', \n",
        "       'idade',\n",
        "       'estado_civil', \n",
        "       'qtde_dependentes', \n",
        "       #'nacionalidade',\n",
        "       'possui_telefone_residencial', \n",
        "       'tipo_residencia', \n",
        "       'meses_na_residencia',\n",
        "       #'possui_email', \n",
        "       'renda_mensal_regular', \n",
        "       'renda_extra',\n",
        "       #'possui_cartao_visa', \n",
        "       'possui_cartao_mastercard',\n",
        "       #'possui_cartao_diners', \n",
        "       #'possui_cartao_amex', \n",
        "       #'possui_outros_cartoes',\n",
        "       #'qtde_contas_bancarias', \n",
        "       #'qtde_contas_bancarias_especiais',\n",
        "       'valor_patrimonio_pessoal', \n",
        "       #'vinculo_formal_com_empresa',\n",
        "       'possui_telefone_trabalho', \n",
        "       #'profissao', \n",
        "       'ocupacao',\n",
        "       'local_onde_reside', \n",
        "       'local_onde_trabalha', \n",
        "       'sexo_F',\n",
        "       'sexo_M', \n",
        "       #'sexo_N', \n",
        "       #'forma_envio_solicitacao_correio',\n",
        "       #'forma_envio_solicitacao_internet',\n",
        "       #'forma_envio_solicitacao_presencial',\n",
        "       'inadimplente'\n",
        "]\n",
        "\n",
        "df_treino1 = df_treino[atributos_selecionados]\n",
        "df_teste1 = df_teste[atributos_selecionados]"
      ],
      "metadata": {
        "id": "64VPmZmRkjOg"
      },
      "execution_count": 46,
      "outputs": []
    },
    {
      "cell_type": "markdown",
      "source": [
        "###Criando arrays X e Y para separar os Atributos e o Alvo"
      ],
      "metadata": {
        "id": "s09SH8i8D7Fj"
      }
    },
    {
      "cell_type": "code",
      "source": [
        "#Montando base de treino e base de teste\n",
        "df_emb = df_treino1.sample(frac=1, random_state=12345)\n",
        "x = df_emb.loc[:, df_emb.columns != \"inadimplente\"].values\n",
        "y = df_emb.loc[:, df_emb.columns == \"inadimplente\"].values\n",
        "\n",
        "#Definindo conjunto de treino e de teste - como já estão separados, só será realizada a divisão entre x e y\n",
        "q = 15000\n",
        "#Treino\n",
        "x_treino = x[:q,:]\n",
        "y_treino = y[:q].ravel()\n",
        "\n",
        "#Teste\n",
        "x_teste = x[q:,:]\n",
        "y_teste = y[q:].ravel()\n",
        "\n",
        "#Avaliação\n",
        "x_avaliacao = df_teste1.loc[:, df_teste1.columns != \"inadimplente\"].values\n",
        "#y_avaliacao = df_teste1.loc[:, df_teste1.columns == \"inadimplente\"].values.ravel()"
      ],
      "metadata": {
        "id": "VJb-RJUJEC2a"
      },
      "execution_count": 47,
      "outputs": []
    },
    {
      "cell_type": "markdown",
      "source": [
        "###Normalizando o Dataset - MinMaxScaler"
      ],
      "metadata": {
        "id": "6S0NoAlHQ3zE"
      }
    },
    {
      "cell_type": "code",
      "source": [
        "ajuste = MinMaxScaler()\n",
        "ajuste.fit(x_treino)\n",
        "\n",
        "x_treino = ajuste.transform(x_treino)\n",
        "x_teste = ajuste.transform(x_teste)\n",
        "x_avaliacao = ajuste.transform(x_avaliacao)"
      ],
      "metadata": {
        "id": "rnBqvqj4Q6Xv"
      },
      "execution_count": null,
      "outputs": []
    },
    {
      "cell_type": "markdown",
      "source": [
        "###Treinando um classificador KNN"
      ],
      "metadata": {
        "id": "Zg65g5tiIbBE"
      }
    },
    {
      "cell_type": "code",
      "source": [
        "classificador = KNeighborsClassifier(n_neighbors = 10)\n",
        "classificador = classificador.fit(x_treino, y_treino)"
      ],
      "metadata": {
        "id": "7AUb79NTIdsx"
      },
      "execution_count": null,
      "outputs": []
    },
    {
      "cell_type": "markdown",
      "source": [
        "####Obtendo as respostas do classificador no conjunto de treino"
      ],
      "metadata": {
        "id": "7sNsIMMVI7qZ"
      }
    },
    {
      "cell_type": "code",
      "source": [
        "y_resposta_treino = classificador.predict(x_treino)"
      ],
      "metadata": {
        "id": "5HcyEUY0I7ao"
      },
      "execution_count": null,
      "outputs": []
    },
    {
      "cell_type": "markdown",
      "source": [
        "####Obtendo as respostas do classificador no conjunto de teste"
      ],
      "metadata": {
        "id": "1Ew8Wqp4JB47"
      }
    },
    {
      "cell_type": "code",
      "source": [
        "y_resposta_teste = classificador.predict(x_teste)"
      ],
      "metadata": {
        "id": "Kno-GRErJCwR"
      },
      "execution_count": null,
      "outputs": []
    },
    {
      "cell_type": "markdown",
      "source": [
        "####Verificando a acurácia do classificador"
      ],
      "metadata": {
        "id": "1dH0_q64JMDy"
      }
    },
    {
      "cell_type": "code",
      "source": [
        "#Acurácia na amostra de treino\n",
        "total = len(y_treino)\n",
        "acertos = sum(y_resposta_treino == y_treino)\n",
        "erros = sum(y_resposta_treino != y_treino)\n",
        "\n",
        "print(\"Total de amostras: \", total)\n",
        "print(\"Respostas corretas: \", acertos)\n",
        "print(\"Respostas erradas: \", erros)\n",
        "\n",
        "acuracia = acertos/total\n",
        "\n",
        "print(\"Acurácia = %.1f %%\" % (100*acuracia))"
      ],
      "metadata": {
        "id": "Imy_0ZJJJPVS"
      },
      "execution_count": null,
      "outputs": []
    },
    {
      "cell_type": "code",
      "source": [
        "#Acurácia na amostra de teste\n",
        "total = len(y_teste)\n",
        "acertos = sum(y_resposta_teste == y_teste)\n",
        "erros = sum(y_resposta_teste != y_teste)\n",
        "\n",
        "print(\"Total de amostras: \", total)\n",
        "print(\"Respostas corretas: \", acertos)\n",
        "print(\"Respostas erradas: \", erros)\n",
        "\n",
        "acuracia = acertos/total\n",
        "\n",
        "print(\"Acurácia = %.1f %%\" % (100*acuracia))"
      ],
      "metadata": {
        "id": "xt1AquKuJ2m2"
      },
      "execution_count": null,
      "outputs": []
    },
    {
      "cell_type": "markdown",
      "source": [
        "###Análise - Variação da Acurácia"
      ],
      "metadata": {
        "id": "lrVdpYNBNZDY"
      }
    },
    {
      "cell_type": "markdown",
      "source": [
        "As células estão ordenadas por melhor resultado "
      ],
      "metadata": {
        "id": "-ZZdH4sPM1I4"
      }
    },
    {
      "cell_type": "code",
      "source": [
        "for k in range(51, 100, 2):\n",
        "  classificador = KNeighborsClassifier(\n",
        "      n_neighbors = k,\n",
        "      weights = 'distance',\n",
        "      p = 1\n",
        "  )\n",
        "  classificador = classificador.fit(x_treino, y_treino)\n",
        "\n",
        "  y_resposta_treino = classificador.predict(x_treino)\n",
        "  y_resposta_teste = classificador.predict(x_teste)\n",
        "\n",
        "  acuracia_treino = sum(y_resposta_treino == y_treino)/len(y_treino)\n",
        "  acuracia_teste = sum(y_resposta_teste == y_teste)/len(y_teste)\n",
        "\n",
        "  print(\n",
        "      \"%3d\" % k,\n",
        "      \"%6.1f\" % (100*acuracia_treino),\n",
        "      \"%6.1f\" % (100*acuracia_teste)\n",
        "  )"
      ],
      "metadata": {
        "colab": {
          "base_uri": "https://localhost:8080/"
        },
        "id": "HnNNuN49I5tE",
        "outputId": "fdc2defc-5008-4e04-f942-6c206b36e6bc"
      },
      "execution_count": null,
      "outputs": [
        {
          "output_type": "stream",
          "name": "stdout",
          "text": [
            "  1  100.0   52.2\n",
            "  3   75.9   51.8\n",
            "  5   69.5   52.0\n",
            "  7   67.0   52.6\n",
            "  9   65.1   52.6\n",
            " 11   63.6   52.1\n",
            " 13   62.7   52.4\n",
            " 15   62.1   51.8\n",
            " 17   61.4   51.7\n",
            " 19   61.0   52.6\n",
            " 21   60.3   52.0\n",
            " 23   60.1   52.5\n"
          ]
        }
      ]
    },
    {
      "cell_type": "code",
      "source": [
        "for k in range(1, 50, 2):\n",
        "  classificador = KNeighborsClassifier(\n",
        "      n_neighbors = k,\n",
        "      weights = 'distance'\n",
        "  )\n",
        "  classificador = classificador.fit(x_treino, y_treino)\n",
        "\n",
        "  y_resposta_treino = classificador.predict(x_treino)\n",
        "  y_resposta_teste = classificador.predict(x_teste)\n",
        "\n",
        "  acuracia_treino = sum(y_resposta_treino == y_treino)/len(y_treino)\n",
        "  acuracia_teste = sum(y_resposta_teste == y_teste)/len(y_teste)\n",
        "\n",
        "  print(\n",
        "      \"%3d\" % k,\n",
        "      \"%6.1f\" % (100*acuracia_treino),\n",
        "      \"%6.1f\" % (100*acuracia_teste)\n",
        "  )"
      ],
      "metadata": {
        "id": "XxmqQ3j7ItKA"
      },
      "execution_count": null,
      "outputs": []
    },
    {
      "cell_type": "code",
      "source": [
        "for k in range(1, 50, 2):\n",
        "  classificador = KNeighborsClassifier(\n",
        "      n_neighbors = k,\n",
        "      weights = 'uniform',\n",
        "      p = 1\n",
        "  )\n",
        "  classificador = classificador.fit(x_treino, y_treino)\n",
        "\n",
        "  y_resposta_treino = classificador.predict(x_treino)\n",
        "  y_resposta_teste = classificador.predict(x_teste)\n",
        "\n",
        "  acuracia_treino = sum(y_resposta_treino == y_treino)/len(y_treino)\n",
        "  acuracia_teste = sum(y_resposta_teste == y_teste)/len(y_teste)\n",
        "\n",
        "  print(\n",
        "      \"%3d\" % k,\n",
        "      \"%6.1f\" % (100*acuracia_treino),\n",
        "      \"%6.1f\" % (100*acuracia_teste)\n",
        "  )"
      ],
      "metadata": {
        "id": "3d21pmt31_uM"
      },
      "execution_count": null,
      "outputs": []
    },
    {
      "cell_type": "code",
      "source": [
        "for k in range(1, 50, 2):\n",
        "  classificador = KNeighborsClassifier(\n",
        "      n_neighbors = k\n",
        "  )\n",
        "  classificador = classificador.fit(x_treino, y_treino)\n",
        "\n",
        "  y_resposta_treino = classificador.predict(x_treino)\n",
        "  y_resposta_teste = classificador.predict(x_teste)\n",
        "\n",
        "  acuracia_treino = sum(y_resposta_treino == y_treino)/len(y_treino)\n",
        "  acuracia_teste = sum(y_resposta_teste == y_teste)/len(y_teste)\n",
        "\n",
        "  print(\n",
        "      \"%3d\" % k,\n",
        "      \"%6.1f\" % (100*acuracia_treino),\n",
        "      \"%6.1f\" % (100*acuracia_teste)\n",
        "  )"
      ],
      "metadata": {
        "id": "eq1ZRTEtIqMi"
      },
      "execution_count": null,
      "outputs": []
    },
    {
      "cell_type": "markdown",
      "source": [
        "###Análise - Validação Cruzada"
      ],
      "metadata": {
        "id": "DcHYpYlfouQc"
      }
    },
    {
      "cell_type": "code",
      "source": [
        "for k in range(81, 120, 2):\n",
        "  classificador = KNeighborsClassifier(\n",
        "      n_neighbors = k,\n",
        "      weights = 'distance',\n",
        "      p = 1\n",
        "  )\n",
        "\n",
        "  scores = cross_val_score(\n",
        "      classificador,\n",
        "      x,\n",
        "      y.ravel(),\n",
        "      cv=8\n",
        "  )\n",
        "\n",
        "  print(\n",
        "      \"k = %2d\" % k,\n",
        "      \"scores = \", scores,\n",
        "      \"acurácia média = %6.1f\" % (100*sum(scores)/8)\n",
        "  )"
      ],
      "metadata": {
        "colab": {
          "base_uri": "https://localhost:8080/"
        },
        "id": "-aD6UpPXoyOH",
        "outputId": "83a5ecea-1838-4e27-86a2-9a73cc8c76fd"
      },
      "execution_count": 55,
      "outputs": [
        {
          "output_type": "stream",
          "name": "stdout",
          "text": [
            "k = 81 scores =  [0.5408 0.542  0.52   0.5444 0.524  0.5452 0.5332 0.5464] acurácia média =   53.7\n",
            "k = 83 scores =  [0.5452 0.5436 0.5212 0.5448 0.5228 0.5464 0.5368 0.5456] acurácia média =   53.8\n",
            "k = 85 scores =  [0.5452 0.5464 0.5248 0.5436 0.5236 0.5456 0.5372 0.542 ] acurácia média =   53.9\n",
            "k = 87 scores =  [0.5496 0.5444 0.5256 0.5432 0.5256 0.5472 0.536  0.5396] acurácia média =   53.9\n",
            "k = 89 scores =  [0.546  0.5456 0.5284 0.5476 0.5272 0.5432 0.5348 0.54  ] acurácia média =   53.9\n",
            "k = 91 scores =  [0.548  0.5456 0.5244 0.55   0.53   0.5416 0.536  0.5376] acurácia média =   53.9\n",
            "k = 93 scores =  [0.5492 0.5448 0.5248 0.5476 0.5284 0.5432 0.5396 0.5396] acurácia média =   54.0\n",
            "k = 95 scores =  [0.5504 0.5444 0.5236 0.548  0.5264 0.5488 0.54   0.536 ] acurácia média =   54.0\n",
            "k = 97 scores =  [0.5492 0.5428 0.5264 0.5456 0.5256 0.5492 0.5404 0.534 ] acurácia média =   53.9\n",
            "k = 99 scores =  [0.5484 0.5452 0.5264 0.5488 0.5268 0.5444 0.5376 0.5328] acurácia média =   53.9\n",
            "k = 101 scores =  [0.5504 0.5436 0.5312 0.5476 0.5232 0.5444 0.538  0.5352] acurácia média =   53.9\n",
            "k = 103 scores =  [0.5484 0.5444 0.5276 0.5444 0.5276 0.544  0.5444 0.5316] acurácia média =   53.9\n",
            "k = 105 scores =  [0.5472 0.5488 0.5236 0.5468 0.5252 0.542  0.5372 0.534 ] acurácia média =   53.8\n",
            "k = 107 scores =  [0.5448 0.5452 0.524  0.546  0.5204 0.5448 0.5364 0.5352] acurácia média =   53.7\n",
            "k = 109 scores =  [0.5504 0.548  0.5284 0.5448 0.5248 0.5452 0.5348 0.5356] acurácia média =   53.9\n",
            "k = 111 scores =  [0.5464 0.5456 0.5296 0.5476 0.5244 0.5404 0.5328 0.5316] acurácia média =   53.7\n",
            "k = 113 scores =  [0.5444 0.548  0.5276 0.5484 0.526  0.542  0.5336 0.532 ] acurácia média =   53.8\n",
            "k = 115 scores =  [0.5424 0.5476 0.524  0.5544 0.5228 0.5412 0.5328 0.5296] acurácia média =   53.7\n",
            "k = 117 scores =  [0.5436 0.5456 0.528  0.5492 0.5244 0.542  0.5304 0.5324] acurácia média =   53.7\n",
            "k = 119 scores =  [0.5408 0.5452 0.53   0.5488 0.5248 0.5412 0.5304 0.5328] acurácia média =   53.7\n"
          ]
        }
      ]
    },
    {
      "cell_type": "markdown",
      "source": [
        "###Predição dos Resultados"
      ],
      "metadata": {
        "id": "_3f2Z6IrDeKA"
      }
    },
    {
      "cell_type": "markdown",
      "source": [
        "Pela avaliação dos modelos acima, ficou decidido que os melhores hiperparâmetros são:\n",
        "\n",
        "k = 93;\n",
        "\n",
        "weights = \"distance\";\n",
        "\n",
        "p = 1;"
      ],
      "metadata": {
        "id": "AR-NshpcNbUY"
      }
    },
    {
      "cell_type": "code",
      "source": [
        "classificador = KNeighborsClassifier(\n",
        "  n_neighbors = 93,\n",
        "  weights = \"distance\",\n",
        "  p = 1\n",
        ")\n",
        "\n",
        "classificador = classificador.fit(x_treino, y_treino)\n",
        "\n",
        "y_resposta = classificador.predict(x_avaliacao)\n",
        "\n",
        "'''for x in range(0, len(y_resposta)):\n",
        "  print(y_resposta[x])'''\n",
        "\n",
        "print (y_resposta)"
      ],
      "metadata": {
        "id": "j9k0FpnlDh3l"
      },
      "execution_count": null,
      "outputs": []
    },
    {
      "cell_type": "code",
      "source": [
        "df_teste[\"inadimplente\"] = y_resposta"
      ],
      "metadata": {
        "id": "nxOzKFySH8V8"
      },
      "execution_count": null,
      "outputs": []
    },
    {
      "cell_type": "code",
      "source": [
        "df_teste.head(20).T"
      ],
      "metadata": {
        "id": "gOOTLPGKGxAe"
      },
      "execution_count": null,
      "outputs": []
    },
    {
      "cell_type": "markdown",
      "source": [
        "####Resultado Final"
      ],
      "metadata": {
        "id": "0wn-nk-JNzxq"
      }
    },
    {
      "cell_type": "code",
      "source": [
        "resultado_final = df_teste[[\"id_solicitante\", \"inadimplente\"]]\n",
        "resultado_final"
      ],
      "metadata": {
        "id": "ptREZzPpN4FU"
      },
      "execution_count": null,
      "outputs": []
    },
    {
      "cell_type": "code",
      "source": [
        "resultado_final.to_csv(\"resultado_T1.csv\", index=False)"
      ],
      "metadata": {
        "id": "Eiq-vx1SOSo1"
      },
      "execution_count": null,
      "outputs": []
    },
    {
      "cell_type": "code",
      "source": [
        "from google.colab import files\n",
        "files.download(\"resultado_T1.csv\")"
      ],
      "metadata": {
        "id": "sAuTOG6KOiuQ"
      },
      "execution_count": null,
      "outputs": []
    }
  ]
}